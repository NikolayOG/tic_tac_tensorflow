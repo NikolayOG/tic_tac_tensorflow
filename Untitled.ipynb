{
 "cells": [
  {
   "cell_type": "code",
   "execution_count": 13,
   "metadata": {
    "collapsed": false
   },
   "outputs": [],
   "source": [
    "%matplotlib inline  \n",
    "\n",
    "import numpy as np\n",
    "import tensorflow as tf\n",
    "from agents.nn_agent import NeuralNetworkAgent\n",
    "from agents.human_agent import HumanAgent\n",
    "from tic_tac_toe.game import TicTacToe"
   ]
  },
  {
   "cell_type": "code",
   "execution_count": 2,
   "metadata": {
    "collapsed": false
   },
   "outputs": [],
   "source": [
    "sess = tf.InteractiveSession()"
   ]
  },
  {
   "cell_type": "code",
   "execution_count": 3,
   "metadata": {
    "collapsed": false
   },
   "outputs": [],
   "source": [
    "env = TicTacToe()"
   ]
  },
  {
   "cell_type": "code",
   "execution_count": 4,
   "metadata": {
    "collapsed": false
   },
   "outputs": [
    {
     "name": "stdout",
     "output_type": "stream",
     "text": [
      "INFO:tensorflow:Summary name state_value_function/neural_network/layer_1/W_1:0 is illegal; using state_value_function/neural_network/layer_1/W_1_0 instead.\n",
      "INFO:tensorflow:Summary name state_value_function/neural_network/layer_1/b_1:0 is illegal; using state_value_function/neural_network/layer_1/b_1_0 instead.\n",
      "INFO:tensorflow:Summary name state_value_function/neural_network/layer_2/W_2:0 is illegal; using state_value_function/neural_network/layer_2/W_2_0 instead.\n",
      "INFO:tensorflow:Summary name state_value_function/neural_network/layer_2/b_2:0 is illegal; using state_value_function/neural_network/layer_2/b_2_0 instead.\n",
      "INFO:tensorflow:Summary name state_value_function/neural_network/layer_1/W_1:0/m is illegal; using state_value_function/neural_network/layer_1/W_1_0/m instead.\n",
      "INFO:tensorflow:Summary name state_value_function/neural_network/layer_1/W_1:0/v is illegal; using state_value_function/neural_network/layer_1/W_1_0/v instead.\n",
      "INFO:tensorflow:Summary name state_value_function/neural_network/layer_1/b_1:0/m is illegal; using state_value_function/neural_network/layer_1/b_1_0/m instead.\n",
      "INFO:tensorflow:Summary name state_value_function/neural_network/layer_1/b_1:0/v is illegal; using state_value_function/neural_network/layer_1/b_1_0/v instead.\n",
      "INFO:tensorflow:Summary name state_value_function/neural_network/layer_2/W_2:0/m is illegal; using state_value_function/neural_network/layer_2/W_2_0/m instead.\n",
      "INFO:tensorflow:Summary name state_value_function/neural_network/layer_2/W_2:0/v is illegal; using state_value_function/neural_network/layer_2/W_2_0/v instead.\n",
      "INFO:tensorflow:Summary name state_value_function/neural_network/layer_2/b_2:0/m is illegal; using state_value_function/neural_network/layer_2/b_2_0/m instead.\n",
      "INFO:tensorflow:Summary name state_value_function/neural_network/layer_2/b_2:0/v is illegal; using state_value_function/neural_network/layer_2/b_2_0/v instead.\n",
      "Restoring checkpoint: /Users/adam/Documents/projects/td_learning/tic_tac_toe/checkpoints/checkpoint.ckpt\n"
     ]
    }
   ],
   "source": [
    "nn_agent = NeuralNetworkAgent(sess,\n",
    "                              '',\n",
    "                              '',\n",
    "                              '/Users/adam/Documents/projects/td_learning/tic_tac_toe/checkpoints/', \n",
    "                              restore=True)"
   ]
  },
  {
   "cell_type": "code",
   "execution_count": 15,
   "metadata": {
    "collapsed": true
   },
   "outputs": [],
   "source": [
    "human_agent = HumanAgent()"
   ]
  },
  {
   "cell_type": "code",
   "execution_count": 30,
   "metadata": {
    "collapsed": true
   },
   "outputs": [],
   "source": [
    "env.reset()"
   ]
  },
  {
   "cell_type": "code",
   "execution_count": null,
   "metadata": {
    "collapsed": false
   },
   "outputs": [
    {
     "name": "stdout",
     "output_type": "stream",
     "text": [
      "  | | \n",
      "-------\n",
      "  | | \n",
      "-------\n",
      "  | | \n",
      "\n",
      " X| | \n",
      "-------\n",
      "  | | \n",
      "-------\n",
      "  | | \n",
      "\n",
      "Enter your move [1-9]2\n",
      " X|O| \n",
      "-------\n",
      "  | | \n",
      "-------\n",
      "  | | \n",
      "\n",
      " X|O| \n",
      "-------\n",
      "  | | \n",
      "-------\n",
      " X| | \n",
      "\n",
      "Enter your move [1-9]4\n",
      " X|O| \n",
      "-------\n",
      " O| | \n",
      "-------\n",
      " X| | \n",
      "\n",
      " X|O| \n",
      "-------\n",
      " O|X| \n",
      "-------\n",
      " X| | \n",
      "\n"
     ]
    }
   ],
   "source": [
    "env.play([nn_agent, human_agent], verbose=True)"
   ]
  },
  {
   "cell_type": "code",
   "execution_count": 12,
   "metadata": {
    "collapsed": false
   },
   "outputs": [
    {
     "ename": "AttributeError",
     "evalue": "'NeuralNetworkAgent' object has no attribute 'J'",
     "output_type": "error",
     "traceback": [
      "\u001b[0;31m---------------------------------------------------------------------------\u001b[0m",
      "\u001b[0;31mAttributeError\u001b[0m                            Traceback (most recent call last)",
      "\u001b[0;32m<ipython-input-12-2e1fefaf9e60>\u001b[0m in \u001b[0;36m<module>\u001b[0;34m()\u001b[0m\n\u001b[1;32m      2\u001b[0m \u001b[0mcandidate_boards\u001b[0m \u001b[0;34m=\u001b[0m \u001b[0menv\u001b[0m\u001b[0;34m.\u001b[0m\u001b[0mget_candidate_boards\u001b[0m\u001b[0;34m(\u001b[0m\u001b[0;34m)\u001b[0m\u001b[0;34m\u001b[0m\u001b[0m\n\u001b[1;32m      3\u001b[0m \u001b[0mturns\u001b[0m \u001b[0;34m=\u001b[0m \u001b[0mfloat\u001b[0m\u001b[0;34m(\u001b[0m\u001b[0menv\u001b[0m\u001b[0;34m.\u001b[0m\u001b[0mturn\u001b[0m\u001b[0;34m)\u001b[0m \u001b[0;34m*\u001b[0m \u001b[0mnp\u001b[0m\u001b[0;34m.\u001b[0m\u001b[0mones\u001b[0m\u001b[0;34m(\u001b[0m\u001b[0;34m(\u001b[0m\u001b[0mlen\u001b[0m\u001b[0;34m(\u001b[0m\u001b[0mcandidate_boards\u001b[0m\u001b[0;34m)\u001b[0m\u001b[0;34m,\u001b[0m \u001b[0;36m1\u001b[0m\u001b[0;34m)\u001b[0m\u001b[0;34m)\u001b[0m\u001b[0;34m\u001b[0m\u001b[0m\n\u001b[0;32m----> 4\u001b[0;31m js = nn_agent.J.eval(feed_dict={nn_agent.boards_placeholder: candidate_boards, \n\u001b[0m\u001b[1;32m      5\u001b[0m                                 nn_agent.turn_placeholder: turns})\n\u001b[1;32m      6\u001b[0m \u001b[0;32mfor\u001b[0m \u001b[0midx\u001b[0m\u001b[0;34m,\u001b[0m \u001b[0;34m(\u001b[0m\u001b[0mj\u001b[0m\u001b[0;34m,\u001b[0m \u001b[0mboard\u001b[0m\u001b[0;34m)\u001b[0m \u001b[0;32min\u001b[0m \u001b[0menumerate\u001b[0m\u001b[0;34m(\u001b[0m\u001b[0mzip\u001b[0m\u001b[0;34m(\u001b[0m\u001b[0mjs\u001b[0m\u001b[0;34m,\u001b[0m \u001b[0mcandidate_boards\u001b[0m\u001b[0;34m)\u001b[0m\u001b[0;34m)\u001b[0m\u001b[0;34m:\u001b[0m\u001b[0;34m\u001b[0m\u001b[0m\n",
      "\u001b[0;31mAttributeError\u001b[0m: 'NeuralNetworkAgent' object has no attribute 'J'"
     ]
    }
   ],
   "source": [
    "legal_moves = env.get_legal_moves()\n",
    "candidate_boards = env.get_candidate_boards()\n",
    "turns = float(env.turn) * np.ones((len(candidate_boards), 1))\n",
    "idx = nn_agent.next_board_idx.eval(feed_dict={nn_agent.boards_placeholder: candidate_boards, \n",
    "                                              nn_agent.turn_placeholder: turns})\n",
    "for idx, (j, board) in enumerate(zip(js, candidate_boards)):\n",
    "    print(idx, j)\n",
    "    env._print(board)\n",
    "    print(100*'*')"
   ]
  },
  {
   "cell_type": "code",
   "execution_count": 14,
   "metadata": {
    "collapsed": false
   },
   "outputs": [],
   "source": [
    "env.make_move(1)"
   ]
  },
  {
   "cell_type": "code",
   "execution_count": 27,
   "metadata": {
    "collapsed": false
   },
   "outputs": [
    {
     "name": "stdout",
     "output_type": "stream",
     "text": [
      "  | | \n",
      "-------\n",
      "  | | \n",
      "-------\n",
      "  | | \n",
      "\n"
     ]
    }
   ],
   "source": [
    "env._print()"
   ]
  },
  {
   "cell_type": "code",
   "execution_count": 46,
   "metadata": {
    "collapsed": false
   },
   "outputs": [
    {
     "name": "stdout",
     "output_type": "stream",
     "text": [
      " X| | \n",
      "-------\n",
      "  | |O\n",
      "-------\n",
      " O| |X\n",
      "\n"
     ]
    }
   ],
   "source": [
    "move = nn_agent.get_move(env)\n",
    "env.make_move(move)\n",
    "env._print()"
   ]
  },
  {
   "cell_type": "code",
   "execution_count": 47,
   "metadata": {
    "collapsed": false
   },
   "outputs": [
    {
     "data": {
      "text/plain": [
       "array([[[ 1.,  0.,  0.],\n",
       "        [ 0.,  0.,  1.],\n",
       "        [ 0.,  0.,  1.]],\n",
       "\n",
       "       [[ 0.,  0.,  1.],\n",
       "        [ 0.,  0.,  1.],\n",
       "        [ 0.,  1.,  0.]],\n",
       "\n",
       "       [[ 0.,  1.,  0.],\n",
       "        [ 0.,  0.,  1.],\n",
       "        [ 1.,  0.,  0.]]])"
      ]
     },
     "execution_count": 47,
     "metadata": {},
     "output_type": "execute_result"
    }
   ],
   "source": [
    "env.board"
   ]
  },
  {
   "cell_type": "code",
   "execution_count": 5,
   "metadata": {
    "collapsed": false
   },
   "outputs": [
    {
     "ename": "TypeError",
     "evalue": "object of type 'Tensor' has no len()",
     "output_type": "error",
     "traceback": [
      "\u001b[0;31m---------------------------------------------------------------------------\u001b[0m",
      "\u001b[0;31mTypeError\u001b[0m                                 Traceback (most recent call last)",
      "\u001b[0;32m<ipython-input-5-bf2a3d1cc44f>\u001b[0m in \u001b[0;36m<module>\u001b[0;34m()\u001b[0m\n\u001b[1;32m      1\u001b[0m \u001b[0myp\u001b[0m \u001b[0;34m=\u001b[0m \u001b[0mtf\u001b[0m\u001b[0;34m.\u001b[0m\u001b[0mplaceholder\u001b[0m\u001b[0;34m(\u001b[0m\u001b[0mtf\u001b[0m\u001b[0;34m.\u001b[0m\u001b[0mfloat32\u001b[0m\u001b[0;34m,\u001b[0m \u001b[0mshape\u001b[0m\u001b[0;34m=\u001b[0m\u001b[0;34m[\u001b[0m\u001b[0;32mNone\u001b[0m\u001b[0;34m]\u001b[0m\u001b[0;34m)\u001b[0m\u001b[0;34m\u001b[0m\u001b[0m\n\u001b[0;32m----> 2\u001b[0;31m \u001b[0midx\u001b[0m \u001b[0;34m=\u001b[0m \u001b[0mtf\u001b[0m\u001b[0;34m.\u001b[0m\u001b[0mrange\u001b[0m\u001b[0;34m(\u001b[0m\u001b[0mlen\u001b[0m\u001b[0;34m(\u001b[0m\u001b[0myp\u001b[0m\u001b[0;34m)\u001b[0m\u001b[0;34m)\u001b[0m\u001b[0;34m\u001b[0m\u001b[0m\n\u001b[0m\u001b[1;32m      3\u001b[0m \u001b[0midx\u001b[0m \u001b[0;34m=\u001b[0m \u001b[0mtf\u001b[0m\u001b[0;34m.\u001b[0m\u001b[0mreshape\u001b[0m\u001b[0;34m(\u001b[0m\u001b[0midx\u001b[0m\u001b[0;34m,\u001b[0m \u001b[0;34m[\u001b[0m\u001b[0;34m-\u001b[0m\u001b[0;36m1\u001b[0m\u001b[0;34m,\u001b[0m \u001b[0;36m1\u001b[0m\u001b[0;34m]\u001b[0m\u001b[0;34m)\u001b[0m    \u001b[0;31m# Convert to a len(yp) x 1 matrix.\u001b[0m\u001b[0;34m\u001b[0m\u001b[0m\n\u001b[1;32m      4\u001b[0m \u001b[0midx\u001b[0m \u001b[0;34m=\u001b[0m \u001b[0mtf\u001b[0m\u001b[0;34m.\u001b[0m\u001b[0mtile\u001b[0m\u001b[0;34m(\u001b[0m\u001b[0midx\u001b[0m\u001b[0;34m,\u001b[0m \u001b[0;34m[\u001b[0m\u001b[0;36m1\u001b[0m\u001b[0;34m,\u001b[0m \u001b[0mlen\u001b[0m\u001b[0;34m(\u001b[0m\u001b[0myp\u001b[0m\u001b[0;34m)\u001b[0m\u001b[0;34m]\u001b[0m\u001b[0;34m)\u001b[0m  \u001b[0;31m# Create multiple columns.\u001b[0m\u001b[0;34m\u001b[0m\u001b[0m\n\u001b[1;32m      5\u001b[0m \u001b[0midx\u001b[0m \u001b[0;34m=\u001b[0m \u001b[0mtf\u001b[0m\u001b[0;34m.\u001b[0m\u001b[0mreshape\u001b[0m\u001b[0;34m(\u001b[0m\u001b[0my\u001b[0m\u001b[0;34m,\u001b[0m \u001b[0;34m[\u001b[0m\u001b[0;34m-\u001b[0m\u001b[0;36m1\u001b[0m\u001b[0;34m]\u001b[0m\u001b[0;34m)\u001b[0m       \u001b[0;31m# Convert back to a vector.\u001b[0m\u001b[0;34m\u001b[0m\u001b[0m\n",
      "\u001b[0;31mTypeError\u001b[0m: object of type 'Tensor' has no len()"
     ]
    }
   ],
   "source": [
    "yp = tf.placeholder(tf.float32, shape=[None,])\n",
    "idx = tf.range(len(yp))\n",
    "idx = tf.reshape(idx, [-1, 1])    # Convert to a len(yp) x 1 matrix.\n",
    "idx = tf.tile(idx, [1, len(yp)])  # Create multiple columns.\n",
    "idx = tf.reshape(idx, [-1])       # Convert back to a vector."
   ]
  },
  {
   "cell_type": "code",
   "execution_count": 15,
   "metadata": {
    "collapsed": false
   },
   "outputs": [
    {
     "data": {
      "text/plain": [
       "(3, 1)"
      ]
     },
     "execution_count": 15,
     "metadata": {},
     "output_type": "execute_result"
    }
   ],
   "source": [
    "r = tf.placeholder(tf.int32, shape=[])\n",
    "yp = tf.placeholder(tf.float32, shape=[])\n",
    "y = tf.reshape(yp, [-1, 1])\n",
    "y = tf.tile(y, [1, r])\n",
    "y = tf.transpose(y)\n",
    "sess.run(y, feed_dict={yp: 3, r: 3}).shape"
   ]
  },
  {
   "cell_type": "code",
   "execution_count": 34,
   "metadata": {
    "collapsed": false
   },
   "outputs": [
    {
     "data": {
      "text/plain": [
       "array([[[ 3.,  3.,  3.],\n",
       "        [ 3.,  3.,  3.],\n",
       "        [ 3.,  3.,  3.]]], dtype=float32)"
      ]
     },
     "execution_count": 34,
     "metadata": {},
     "output_type": "execute_result"
    }
   ],
   "source": [
    "x = tf.concat(0,[1*tf.ones((1,3,3)), 2*tf.ones((1,3,3)), 3*tf.ones((1,3,3))])\n",
    "z = tf.slice(x, [2,0,0], [1,3,3])\n",
    "sess.run(z)"
   ]
  },
  {
   "cell_type": "code",
   "execution_count": 35,
   "metadata": {
    "collapsed": false
   },
   "outputs": [
    {
     "ename": "AttributeError",
     "evalue": "module 'tensorflow' has no attribute 'nn_ops'",
     "output_type": "error",
     "traceback": [
      "\u001b[0;31m---------------------------------------------------------------------------\u001b[0m",
      "\u001b[0;31mAttributeError\u001b[0m                            Traceback (most recent call last)",
      "\u001b[0;32m<ipython-input-35-38475db63d29>\u001b[0m in \u001b[0;36m<module>\u001b[0;34m()\u001b[0m\n\u001b[0;32m----> 1\u001b[0;31m \u001b[0mtf\u001b[0m\u001b[0;34m.\u001b[0m\u001b[0mnn_ops\u001b[0m\u001b[0;34m\u001b[0m\u001b[0m\n\u001b[0m",
      "\u001b[0;31mAttributeError\u001b[0m: module 'tensorflow' has no attribute 'nn_ops'"
     ]
    }
   ],
   "source": [
    "tf.minimum()"
   ]
  },
  {
   "cell_type": "code",
   "execution_count": 10,
   "metadata": {
    "collapsed": false
   },
   "outputs": [
    {
     "data": {
      "text/plain": [
       "482694.25600000017"
      ]
     },
     "execution_count": 10,
     "metadata": {},
     "output_type": "execute_result"
    }
   ],
   "source": [
    "contribution = 36000\n",
    "rate_of_return = 1.1\n",
    "\n",
    "def value(t, current_value):\n",
    "    if t>0:\n",
    "        return value(t-1, (current_value + contribution) * rate_of_return)\n",
    "    else:\n",
    "        return (current_value + contribution) * rate_of_return\n",
    "\n",
    "value(5, 100000)"
   ]
  },
  {
   "cell_type": "code",
   "execution_count": null,
   "metadata": {
    "collapsed": true
   },
   "outputs": [],
   "source": []
  }
 ],
 "metadata": {
  "kernelspec": {
   "display_name": "Python 3",
   "language": "python",
   "name": "python3"
  },
  "language_info": {
   "codemirror_mode": {
    "name": "ipython",
    "version": 3
   },
   "file_extension": ".py",
   "mimetype": "text/x-python",
   "name": "python",
   "nbconvert_exporter": "python",
   "pygments_lexer": "ipython3",
   "version": "3.5.2"
  }
 },
 "nbformat": 4,
 "nbformat_minor": 0
}
