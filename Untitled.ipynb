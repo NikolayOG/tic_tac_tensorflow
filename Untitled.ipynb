{
 "cells": [
  {
   "cell_type": "code",
   "execution_count": 1,
   "metadata": {
    "collapsed": false
   },
   "outputs": [],
   "source": [
    "%matplotlib inline  \n",
    "\n",
    "import numpy as np\n",
    "import tensorflow as tf\n",
    "from agents.nn_agent import NeuralNetworkAgent\n",
    "from agents.human_agent import HumanAgent\n",
    "from tic_tac_toe.game import TicTacToe"
   ]
  },
  {
   "cell_type": "code",
   "execution_count": 2,
   "metadata": {
    "collapsed": false
   },
   "outputs": [],
   "source": [
    "sess = tf.InteractiveSession()"
   ]
  },
  {
   "cell_type": "code",
   "execution_count": 3,
   "metadata": {
    "collapsed": false
   },
   "outputs": [],
   "source": [
    "env = TicTacToe()"
   ]
  },
  {
   "cell_type": "code",
   "execution_count": 4,
   "metadata": {
    "collapsed": false
   },
   "outputs": [
    {
     "name": "stdout",
     "output_type": "stream",
     "text": [
      "INFO:tensorflow:Summary name state_value_function/neural_network/layer_1/W_1:0 is illegal; using state_value_function/neural_network/layer_1/W_1_0 instead.\n",
      "INFO:tensorflow:Summary name state_value_function/neural_network/layer_1/b_1:0 is illegal; using state_value_function/neural_network/layer_1/b_1_0 instead.\n",
      "INFO:tensorflow:Summary name state_value_function/neural_network/layer_2/W_2:0 is illegal; using state_value_function/neural_network/layer_2/W_2_0 instead.\n",
      "INFO:tensorflow:Summary name state_value_function/neural_network/layer_2/b_2:0 is illegal; using state_value_function/neural_network/layer_2/b_2_0 instead.\n",
      "INFO:tensorflow:Summary name state_value_function/neural_network/layer_1/W_1:0/m is illegal; using state_value_function/neural_network/layer_1/W_1_0/m instead.\n",
      "INFO:tensorflow:Summary name state_value_function/neural_network/layer_1/W_1:0/v is illegal; using state_value_function/neural_network/layer_1/W_1_0/v instead.\n",
      "INFO:tensorflow:Summary name state_value_function/neural_network/layer_1/b_1:0/m is illegal; using state_value_function/neural_network/layer_1/b_1_0/m instead.\n",
      "INFO:tensorflow:Summary name state_value_function/neural_network/layer_1/b_1:0/v is illegal; using state_value_function/neural_network/layer_1/b_1_0/v instead.\n",
      "INFO:tensorflow:Summary name state_value_function/neural_network/layer_2/W_2:0/m is illegal; using state_value_function/neural_network/layer_2/W_2_0/m instead.\n",
      "INFO:tensorflow:Summary name state_value_function/neural_network/layer_2/W_2:0/v is illegal; using state_value_function/neural_network/layer_2/W_2_0/v instead.\n",
      "INFO:tensorflow:Summary name state_value_function/neural_network/layer_2/b_2:0/m is illegal; using state_value_function/neural_network/layer_2/b_2_0/m instead.\n",
      "INFO:tensorflow:Summary name state_value_function/neural_network/layer_2/b_2:0/v is illegal; using state_value_function/neural_network/layer_2/b_2_0/v instead.\n",
      "Restoring checkpoint: /Users/adam/Documents/projects/td_learning/tic_tac_toe/checkpoints/checkpoint.ckpt\n"
     ]
    }
   ],
   "source": [
    "nn_agent = NeuralNetworkAgent(sess,\n",
    "                              '',\n",
    "                              '',\n",
    "                              '/Users/adam/Documents/projects/td_learning/tic_tac_toe/perfect_play_checkpoint/', \n",
    "                              restore=True)"
   ]
  },
  {
   "cell_type": "code",
   "execution_count": 5,
   "metadata": {
    "collapsed": true
   },
   "outputs": [],
   "source": [
    "human_agent = HumanAgent()"
   ]
  },
  {
   "cell_type": "code",
   "execution_count": 6,
   "metadata": {
    "collapsed": true
   },
   "outputs": [],
   "source": [
    "env.reset()"
   ]
  },
  {
   "cell_type": "code",
   "execution_count": 7,
   "metadata": {
    "collapsed": false
   },
   "outputs": [
    {
     "name": "stdout",
     "output_type": "stream",
     "text": [
      "  | | \n",
      "-------\n",
      "  | | \n",
      "-------\n",
      "  | | \n",
      "\n",
      "  | | \n",
      "-------\n",
      "  |X| \n",
      "-------\n",
      "  | | \n",
      "\n",
      "Enter your move [1-9]1\n",
      " O| | \n",
      "-------\n",
      "  |X| \n",
      "-------\n",
      "  | | \n",
      "\n",
      " O| | \n",
      "-------\n",
      " X|X| \n",
      "-------\n",
      "  | | \n",
      "\n",
      "Enter your move [1-9]6\n",
      " O| | \n",
      "-------\n",
      " X|X|O\n",
      "-------\n",
      "  | | \n",
      "\n",
      " O|X| \n",
      "-------\n",
      " X|X|O\n",
      "-------\n",
      "  | | \n",
      "\n",
      "Enter your move [1-9]8\n",
      " O|X| \n",
      "-------\n",
      " X|X|O\n",
      "-------\n",
      "  |O| \n",
      "\n",
      " O|X|X\n",
      "-------\n",
      " X|X|O\n",
      "-------\n",
      "  |O| \n",
      "\n",
      "Enter your move [1-9]7\n",
      " O|X|X\n",
      "-------\n",
      " X|X|O\n",
      "-------\n",
      " O|O| \n",
      "\n",
      " O|X|X\n",
      "-------\n",
      " X|X|O\n",
      "-------\n",
      " O|O|X\n",
      "\n",
      "draw\n"
     ]
    },
    {
     "data": {
      "text/plain": [
       "0"
      ]
     },
     "execution_count": 7,
     "metadata": {},
     "output_type": "execute_result"
    }
   ],
   "source": [
    "env.play([nn_agent, human_agent], verbose=True)"
   ]
  },
  {
   "cell_type": "code",
   "execution_count": 12,
   "metadata": {
    "collapsed": false
   },
   "outputs": [
    {
     "ename": "AttributeError",
     "evalue": "'NeuralNetworkAgent' object has no attribute 'J'",
     "output_type": "error",
     "traceback": [
      "\u001b[0;31m---------------------------------------------------------------------------\u001b[0m",
      "\u001b[0;31mAttributeError\u001b[0m                            Traceback (most recent call last)",
      "\u001b[0;32m<ipython-input-12-2e1fefaf9e60>\u001b[0m in \u001b[0;36m<module>\u001b[0;34m()\u001b[0m\n\u001b[1;32m      2\u001b[0m \u001b[0mcandidate_boards\u001b[0m \u001b[0;34m=\u001b[0m \u001b[0menv\u001b[0m\u001b[0;34m.\u001b[0m\u001b[0mget_candidate_boards\u001b[0m\u001b[0;34m(\u001b[0m\u001b[0;34m)\u001b[0m\u001b[0;34m\u001b[0m\u001b[0m\n\u001b[1;32m      3\u001b[0m \u001b[0mturns\u001b[0m \u001b[0;34m=\u001b[0m \u001b[0mfloat\u001b[0m\u001b[0;34m(\u001b[0m\u001b[0menv\u001b[0m\u001b[0;34m.\u001b[0m\u001b[0mturn\u001b[0m\u001b[0;34m)\u001b[0m \u001b[0;34m*\u001b[0m \u001b[0mnp\u001b[0m\u001b[0;34m.\u001b[0m\u001b[0mones\u001b[0m\u001b[0;34m(\u001b[0m\u001b[0;34m(\u001b[0m\u001b[0mlen\u001b[0m\u001b[0;34m(\u001b[0m\u001b[0mcandidate_boards\u001b[0m\u001b[0;34m)\u001b[0m\u001b[0;34m,\u001b[0m \u001b[0;36m1\u001b[0m\u001b[0;34m)\u001b[0m\u001b[0;34m)\u001b[0m\u001b[0;34m\u001b[0m\u001b[0m\n\u001b[0;32m----> 4\u001b[0;31m js = nn_agent.J.eval(feed_dict={nn_agent.boards_placeholder: candidate_boards, \n\u001b[0m\u001b[1;32m      5\u001b[0m                                 nn_agent.turn_placeholder: turns})\n\u001b[1;32m      6\u001b[0m \u001b[0;32mfor\u001b[0m \u001b[0midx\u001b[0m\u001b[0;34m,\u001b[0m \u001b[0;34m(\u001b[0m\u001b[0mj\u001b[0m\u001b[0;34m,\u001b[0m \u001b[0mboard\u001b[0m\u001b[0;34m)\u001b[0m \u001b[0;32min\u001b[0m \u001b[0menumerate\u001b[0m\u001b[0;34m(\u001b[0m\u001b[0mzip\u001b[0m\u001b[0;34m(\u001b[0m\u001b[0mjs\u001b[0m\u001b[0;34m,\u001b[0m \u001b[0mcandidate_boards\u001b[0m\u001b[0;34m)\u001b[0m\u001b[0;34m)\u001b[0m\u001b[0;34m:\u001b[0m\u001b[0;34m\u001b[0m\u001b[0m\n",
      "\u001b[0;31mAttributeError\u001b[0m: 'NeuralNetworkAgent' object has no attribute 'J'"
     ]
    }
   ],
   "source": [
    "legal_moves = env.get_legal_moves()\n",
    "candidate_boards = env.get_candidate_boards()\n",
    "turns = float(env.turn) * np.ones((len(candidate_boards), 1))\n",
    "idx = nn_agent.n.eval(feed_dict={nn_agent.boards_placeholder: candidate_boards, \n",
    "                                              nn_agent.turn_placeholder: turns})\n",
    "for idx, (j, board) in enumerate(zip(js, candidate_boards)):\n",
    "    print(idx, j)\n",
    "    env._print(board)\n",
    "    print(100*'*')"
   ]
  },
  {
   "cell_type": "code",
   "execution_count": 54,
   "metadata": {
    "collapsed": false
   },
   "outputs": [
    {
     "data": {
      "text/plain": [
       "1341237.9401571671"
      ]
     },
     "execution_count": 54,
     "metadata": {},
     "output_type": "execute_result"
    }
   ],
   "source": [
    "rate_of_return = 1.1\n",
    "contribution_increase_rate = 1.05\n",
    "\n",
    "def value(t, current_value, current_contribution):\n",
    "    val = (current_value + current_contribution) * rate_of_return\n",
    "    if t>0:\n",
    "        return value(t-1, \n",
    "                     val, \n",
    "                     current_contribution * contribution_increase_rate)\n",
    "    else:\n",
    "        return val\n",
    "\n",
    "value(10, 100000, 42000)"
   ]
  },
  {
   "cell_type": "code",
   "execution_count": 40,
   "metadata": {
    "collapsed": false
   },
   "outputs": [
    {
     "data": {
      "text/plain": [
       "185.06082656250004"
      ]
     },
     "execution_count": 40,
     "metadata": {},
     "output_type": "execute_result"
    }
   ],
   "source": [
    "145*1.05**5"
   ]
  },
  {
   "cell_type": "code",
   "execution_count": 48,
   "metadata": {
    "collapsed": false
   },
   "outputs": [
    {
     "data": {
      "text/plain": [
       "42"
      ]
     },
     "execution_count": 48,
     "metadata": {},
     "output_type": "execute_result"
    }
   ],
   "source": [
    "18+24"
   ]
  },
  {
   "cell_type": "code",
   "execution_count": null,
   "metadata": {
    "collapsed": true
   },
   "outputs": [],
   "source": []
  }
 ],
 "metadata": {
  "kernelspec": {
   "display_name": "Python 3",
   "language": "python",
   "name": "python3"
  },
  "language_info": {
   "codemirror_mode": {
    "name": "ipython",
    "version": 3
   },
   "file_extension": ".py",
   "mimetype": "text/x-python",
   "name": "python",
   "nbconvert_exporter": "python",
   "pygments_lexer": "ipython3",
   "version": "3.5.2"
  }
 },
 "nbformat": 4,
 "nbformat_minor": 0
}
