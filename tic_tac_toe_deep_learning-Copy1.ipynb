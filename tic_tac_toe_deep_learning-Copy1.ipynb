{
 "cells": [
  {
   "cell_type": "code",
   "execution_count": 1,
   "metadata": {
    "collapsed": false
   },
   "outputs": [],
   "source": [
    "import numpy as np\n",
    "import random\n",
    "from chess.pgn import read_game\n",
    "from IPython.display import SVG\n",
    "import tensorflow as tf\n",
    "import itertools\n",
    "from copy import copy\n",
    "import time"
   ]
  },
  {
   "cell_type": "code",
   "execution_count": 3,
   "metadata": {
    "collapsed": false
   },
   "outputs": [],
   "source": [
    "class TicTacToe(object):\n",
    "    def __init__(self):\n",
    "        self.board = np.zeros((3,3,2))\n",
    "        self.turn = False\n",
    "        \n",
    "    def reset(self):\n",
    "        self.board = np.zeros((3,3,2))\n",
    "        self.turn = False\n",
    "        return self.board, self.reward()\n",
    "    \n",
    "    def reward(self, board=None):\n",
    "        if board is None:\n",
    "            board = self.board\n",
    "        if any(board[:,:,0].sum(axis=0)==3) or any(board[:,:,0].sum(axis=1)==3) or board[:,:,0][np.eye(3)==1].sum()==3 or board[:,:,0][np.rot90(np.eye(3))==1].sum()==3:\n",
    "            return 1\n",
    "        elif any(board[:,:,1].sum(axis=0)==3) or any(board[:,:,1].sum(axis=1)==3) or board[:,:,1][np.eye(3)==1].sum()==3 or board[:,:,1][np.rot90(np.eye(3))==1].sum()==3:\n",
    "            return -1\n",
    "        elif board.sum()==9:\n",
    "            return 0\n",
    "        else:\n",
    "            return None\n",
    "    \n",
    "    def step(self, board):\n",
    "        self.board = board\n",
    "        self.turn = not self.turn\n",
    "    \n",
    "    def get_candidate_boards(self, board=None):\n",
    "        if board is None:\n",
    "            board = self.board\n",
    "            \n",
    "        candidate_boards = []\n",
    "        if self.reward() is None:\n",
    "            empty_xs, empty_ys = np.where(board.sum(axis=2)==0)\n",
    "            for candidate_action in zip(empty_xs, empty_ys):\n",
    "                candidate_board = copy(board)\n",
    "                candidate_board[candidate_action[0], candidate_action[1], int(self.turn)] = 1\n",
    "                candidate_boards.append(candidate_board)\n",
    "        return candidate_boards\n",
    "    \n",
    "    def print(self):\n",
    "        s=''\n",
    "        for i in range(3):\n",
    "            for j in range(3):\n",
    "                if self.board[i,j,0]==1:\n",
    "                    s+='X'\n",
    "                elif self.board[i,j,1]==1:\n",
    "                    s+='O'\n",
    "                else:\n",
    "                    s+='-'\n",
    "            s+='\\n'\n",
    "        print(s)\n",
    "    \n",
    "    def play(self, players):\n",
    "        while self.reward() is None:\n",
    "            candidate_boards = self.get_candidate_boards()\n",
    "            player = players[int(self.turn)]\n",
    "            selected_board = player.select_board(candidate_boards)\n",
    "            self.step(selected_board)\n",
    "            self.print()\n",
    "        return self.reward()\n",
    "\n",
    "class RandomAgent(object):\n",
    "    def select_board(self, boards):\n",
    "        selected_board = random.choice(boards)\n",
    "        return selected_board"
   ]
  },
  {
   "cell_type": "code",
   "execution_count": 3,
   "metadata": {
    "collapsed": false
   },
   "outputs": [],
   "source": [
    "class NeuralNetAgent(object):\n",
    "    def __init__(self, sess, model_path, summary_path, checkpoint_path, restore=False):\n",
    "        self.sess = sess\n",
    "        self.model_path = model_path\n",
    "        self.checkpoint_path = checkpoint_path\n",
    "        self.summary_path = summary_path\n",
    "        \n",
    "        self.boards_placeholder = tf.placeholder(tf.float32, shape=[None, 3, 3, 2], name='candidate_boards')\n",
    "        self.turn_placeholder = tf.placeholder(tf.float32, shape=[None,1], name='turn')\n",
    "        reshaped_candidate_boards = tf.reshape(self.boards_placeholder, [tf.shape(self.boards_placeholder)[0], 18])\n",
    "        feature_vectors = tf.concat(1,[reshaped_candidate_boards, self.turn_placeholder])\n",
    "        W_1 = tf.Variable(tf.truncated_normal([19,100], stddev=0.1), name='W_1')\n",
    "        b_1 = tf.Variable(tf.constant(0.0, shape=[100]), name='b_1')\n",
    "        layer_1 = tf.nn.relu(tf.matmul(feature_vectors, W_1) + b_1, name='layer1')\n",
    "        W_2 = tf.Variable(tf.truncated_normal([100,1], stddev=0.1), name='W_2')\n",
    "        b_2 = tf.Variable(tf.constant(0.0, shape=[1]), name='b_2')\n",
    "        self.J = tf.nn.tanh(tf.matmul(layer_1, W_2) + b_2, name='J')\n",
    "\n",
    "        self.J_next = tf.placeholder('float', [1, 1], name='J_next')\n",
    "        delta_op = tf.reduce_sum(self.J_next - self.J, name='delta')\n",
    "\n",
    "        turn_count = tf.Variable(tf.constant(0.0), name='turn_number', trainable=False)\n",
    "        self.turn_count_op = turn_count.assign_add(1.0)\n",
    "        self.turn_count_reset_op = turn_count.assign(0.0)\n",
    "\n",
    "        loss_sum = tf.Variable(tf.constant(0.0), name='loss_sum', trainable=False)\n",
    "        loss_op = tf.reduce_mean(tf.square(self.J_next - self.J), name='loss')\n",
    "        self.loss_sum_op = loss_sum.assign_add(loss_op)\n",
    "        loss_avg_op = loss_sum / tf.maximum(turn_count, 1.0)\n",
    "        self.loss_sum_reset_op = loss_sum.assign(0.0)\n",
    "        tf.scalar_summary('loss_avg', loss_avg_op)\n",
    "        tf.scalar_summary('turn_count', turn_count)\n",
    "        \n",
    "        lamda = 0.7\n",
    "\n",
    "        update_traces = []\n",
    "        update_trace_sums = []\n",
    "        reset_trace_sums = []\n",
    "        reset_traces = []\n",
    "        trace_sums = []\n",
    "\n",
    "        tvars = tf.trainable_variables()\n",
    "        opt = tf.train.GradientDescentOptimizer(learning_rate=1)\n",
    "    \n",
    "        grads_and_vars = opt.compute_gradients(self.J, var_list=tvars, )\n",
    "\n",
    "        with tf.variable_scope('update_traces'):\n",
    "            for grad, var in grads_and_vars:\n",
    "                if grad is None:\n",
    "                    grad = tf.zeros_like(var)\n",
    "                with tf.variable_scope('trace'):\n",
    "                    trace = tf.Variable(tf.zeros(var.get_shape()), trainable=False, name='trace')            \n",
    "                    update_trace_op = trace.assign( delta_op * ( (lamda * trace) + grad) )\n",
    "                    update_traces.append(update_trace_op)\n",
    "\n",
    "                    reset_trace_op = trace.assign(tf.zeros_like(trace))\n",
    "                    reset_traces.append(reset_trace_op)\n",
    "\n",
    "                trace_sum = tf.Variable(tf.zeros(var.get_shape()), trainable=False, name='trace_sum')\n",
    "                trace_sums.append(trace_sum)\n",
    "\n",
    "                update_trace_sum_op = trace_sum.assign_add(trace)\n",
    "                update_trace_sums.append(update_trace_sum_op)\n",
    "                reset_trace_sum_op = trace_sum.assign(tf.zeros_like(trace_sum))\n",
    "                reset_trace_sums.append(reset_trace_sum_op)\n",
    "\n",
    "        self.apply_gradients_op = opt.apply_gradients(zip([-ts/turn_count for ts in trace_sums], tvars)) #, global_step=global_step)\n",
    "\n",
    "        for tvar, ts in zip(tvars, trace_sums):\n",
    "            tf.histogram_summary(tvar.name, tvar)\n",
    "            tf.histogram_summary(tvar.name + '/trace_sums', ts)\n",
    "\n",
    "        self.summaries_op = tf.merge_all_summaries()\n",
    "\n",
    "        self.update_traces_op = tf.group(*update_traces, name='update_traces')\n",
    "        self.update_trace_sums_op = tf.group(*update_trace_sums, name='update_trace_sums')\n",
    "        self.reset_trace_sums_op = tf.group(*reset_trace_sums, name='reset_trace_sums')\n",
    "        self.reset_traces_op = tf.group(*reset_traces, name='reset_traces')\n",
    "                \n",
    "        self.saver = tf.train.Saver(max_to_keep=1)\n",
    "\n",
    "        self.sess.run(tf.global_variables_initializer())\n",
    "        \n",
    "        if restore:\n",
    "            self.restore()\n",
    "    \n",
    "    def train(self, num_epochs, batch_size, epsilon):\n",
    "        env = TicTacToe()\n",
    "        tf.train.write_graph(self.sess.graph_def, self.model_path, 'td_tictactoe.pb', as_text=False)\n",
    "        summary_writer = tf.train.SummaryWriter('{0}{1}'.format(self.summary_path, int(time.time()), self.sess.graph_def))\n",
    "        saver = tf.train.Saver(max_to_keep=1)\n",
    "        for epoch in range(num_epochs):\n",
    "            if epoch>0 and epoch%1==0:\n",
    "#                 print('epoch', epoch)\n",
    "                saver.save(self.sess, self.model_path)\n",
    "            for episode in range(batch_size):\n",
    "                while True:\n",
    "                    candidate_boards = env.get_candidate_boards()\n",
    "                    turns = float(not env.turn)*np.ones((len(candidate_boards), 1))\n",
    "                    candidate_Js = self.sess.run(self.J, feed_dict={self.boards_placeholder: np.array(candidate_boards),\n",
    "                                                                    self.turn_placeholder: turns})\n",
    "\n",
    "                    if np.random.rand() < epsilon:\n",
    "                        next_idx = np.random.choice(range(len(candidate_Js)))\n",
    "                        next_J = env.reward(candidate_boards[next_idx])\n",
    "                        if next_J is None:\n",
    "                            next_J = candidate_Js[next_idx][0]\n",
    "                    else:\n",
    "                        if env.turn:\n",
    "                            next_idx = np.argmin(candidate_Js)\n",
    "                            next_J = env.reward(candidate_boards[next_idx])\n",
    "                            if next_J is None:\n",
    "                                next_J = np.max(candidate_Js)\n",
    "\n",
    "                        else:\n",
    "                            next_idx = np.argmax(candidate_Js)\n",
    "                            next_J = env.reward(candidate_boards[next_idx])\n",
    "                            if next_J is None:\n",
    "                                next_J = np.min(candidate_Js)\n",
    "                                \n",
    "                    self.sess.run([self.update_traces_op, self.loss_sum_op, self.turn_count_op], \n",
    "                                  feed_dict={self.boards_placeholder: np.array([env.board]), \n",
    "                                             self.turn_placeholder: np.array([[env.turn]]),\n",
    "                                             self.J_next: np.array([[next_J]])})\n",
    "                    env.step(candidate_boards[next_idx])\n",
    "                    if env.reward() is not None:\n",
    "                        break\n",
    "\n",
    "                self.sess.run([self.update_trace_sums_op])\n",
    "                self.sess.run([self.reset_traces_op])\n",
    "                env.reset()\n",
    "\n",
    "#             print('final loss avg:', self.sess.run(self.loss_avg_op))\n",
    "            self.sess.run(self.apply_gradients_op)\n",
    "\n",
    "            summary = self.sess.run(self.summaries_op)\n",
    "            summary_writer.add_summary(summary, epoch)\n",
    "            self.sess.run([self.loss_sum_reset_op, \n",
    "                           self.reset_trace_sums_op, \n",
    "                           self.turn_count_reset_op])\n",
    "        summary_writer.close()\n",
    "        \n",
    "    def restore(self):\n",
    "        latest_checkpoint_path = tf.train.latest_checkpoint(self.checkpoint_path)\n",
    "        if latest_checkpoint_path:\n",
    "            print('Restoring checkpoint: {0}'.format(latest_checkpoint_path))\n",
    "            self.saver.restore(self.sess, latest_checkpoint_path)\n",
    "            \n",
    "    def select_board(self, boards):\n",
    "        turns = float(not env.turn)*np.ones((len(boards), 1))\n",
    "        Js = self.sess.run(self.J, feed_dict={self.boards_placeholder: np.array(boards),\n",
    "                                              self.turn_placeholder: turns})\n",
    "        board_idx = np.random.choice(range(len(Js)))\n",
    "        return boards[board_idx]"
   ]
  },
  {
   "cell_type": "code",
   "execution_count": 4,
   "metadata": {
    "collapsed": true
   },
   "outputs": [],
   "source": [
    "sess = tf.InteractiveSession()"
   ]
  },
  {
   "cell_type": "code",
   "execution_count": 6,
   "metadata": {
    "collapsed": false
   },
   "outputs": [
    {
     "ename": "InvalidArgumentError",
     "evalue": "Duplicate tag loss_avg found in summary inputs\n\t [[Node: MergeSummary_1/MergeSummary = MergeSummary[N=28, _device=\"/job:localhost/replica:0/task:0/cpu:0\"](ScalarSummary, ScalarSummary_1, HistogramSummary, HistogramSummary_1, HistogramSummary_2, HistogramSummary_3, HistogramSummary_4, HistogramSummary_5, HistogramSummary_6, HistogramSummary_7, ScalarSummary_2, ScalarSummary_3, HistogramSummary_8, HistogramSummary_9, HistogramSummary_10, HistogramSummary_11, HistogramSummary_12, HistogramSummary_13, HistogramSummary_14, HistogramSummary_15, HistogramSummary_16, HistogramSummary_17, HistogramSummary_18, HistogramSummary_19, HistogramSummary_20, HistogramSummary_21, HistogramSummary_22, HistogramSummary_23)]]\n\nCaused by op 'MergeSummary_1/MergeSummary', defined at:\n  File \"/Users/adam/anaconda/lib/python3.5/runpy.py\", line 170, in _run_module_as_main\n    \"__main__\", mod_spec)\n  File \"/Users/adam/anaconda/lib/python3.5/runpy.py\", line 85, in _run_code\n    exec(code, run_globals)\n  File \"/Users/adam/anaconda/lib/python3.5/site-packages/ipykernel/__main__.py\", line 3, in <module>\n    app.launch_new_instance()\n  File \"/Users/adam/anaconda/lib/python3.5/site-packages/traitlets/config/application.py\", line 596, in launch_instance\n    app.start()\n  File \"/Users/adam/anaconda/lib/python3.5/site-packages/ipykernel/kernelapp.py\", line 442, in start\n    ioloop.IOLoop.instance().start()\n  File \"/Users/adam/anaconda/lib/python3.5/site-packages/zmq/eventloop/ioloop.py\", line 162, in start\n    super(ZMQIOLoop, self).start()\n  File \"/Users/adam/anaconda/lib/python3.5/site-packages/tornado/ioloop.py\", line 883, in start\n    handler_func(fd_obj, events)\n  File \"/Users/adam/anaconda/lib/python3.5/site-packages/tornado/stack_context.py\", line 275, in null_wrapper\n    return fn(*args, **kwargs)\n  File \"/Users/adam/anaconda/lib/python3.5/site-packages/zmq/eventloop/zmqstream.py\", line 440, in _handle_events\n    self._handle_recv()\n  File \"/Users/adam/anaconda/lib/python3.5/site-packages/zmq/eventloop/zmqstream.py\", line 472, in _handle_recv\n    self._run_callback(callback, msg)\n  File \"/Users/adam/anaconda/lib/python3.5/site-packages/zmq/eventloop/zmqstream.py\", line 414, in _run_callback\n    callback(*args, **kwargs)\n  File \"/Users/adam/anaconda/lib/python3.5/site-packages/tornado/stack_context.py\", line 275, in null_wrapper\n    return fn(*args, **kwargs)\n  File \"/Users/adam/anaconda/lib/python3.5/site-packages/ipykernel/kernelbase.py\", line 276, in dispatcher\n    return self.dispatch_shell(stream, msg)\n  File \"/Users/adam/anaconda/lib/python3.5/site-packages/ipykernel/kernelbase.py\", line 228, in dispatch_shell\n    handler(stream, idents, msg)\n  File \"/Users/adam/anaconda/lib/python3.5/site-packages/ipykernel/kernelbase.py\", line 391, in execute_request\n    user_expressions, allow_stdin)\n  File \"/Users/adam/anaconda/lib/python3.5/site-packages/ipykernel/ipkernel.py\", line 199, in do_execute\n    shell.run_cell(code, store_history=store_history, silent=silent)\n  File \"/Users/adam/anaconda/lib/python3.5/site-packages/IPython/core/interactiveshell.py\", line 2723, in run_cell\n    interactivity=interactivity, compiler=compiler, result=result)\n  File \"/Users/adam/anaconda/lib/python3.5/site-packages/IPython/core/interactiveshell.py\", line 2825, in run_ast_nodes\n    if self.run_code(code, result):\n  File \"/Users/adam/anaconda/lib/python3.5/site-packages/IPython/core/interactiveshell.py\", line 2885, in run_code\n    exec(code_obj, self.user_global_ns, self.user_ns)\n  File \"<ipython-input-6-1e325e940baf>\", line 4, in <module>\n    '/Users/adam/Documents/projects/chess_deep_learning/checkpoints/')\n  File \"<ipython-input-3-cf5a3013964c>\", line 73, in __init__\n    self.summaries_op = tf.merge_all_summaries()\n  File \"/Users/adam/anaconda/lib/python3.5/site-packages/tensorflow/python/ops/logging_ops.py\", line 246, in merge_all_summaries\n    return merge_summary(summary_ops)\n  File \"/Users/adam/anaconda/lib/python3.5/site-packages/tensorflow/python/ops/logging_ops.py\", line 225, in merge_summary\n    val = gen_logging_ops._merge_summary(inputs=inputs, name=name)\n  File \"/Users/adam/anaconda/lib/python3.5/site-packages/tensorflow/python/ops/gen_logging_ops.py\", line 227, in _merge_summary\n    result = _op_def_lib.apply_op(\"MergeSummary\", inputs=inputs, name=name)\n  File \"/Users/adam/anaconda/lib/python3.5/site-packages/tensorflow/python/framework/op_def_library.py\", line 759, in apply_op\n    op_def=op_def)\n  File \"/Users/adam/anaconda/lib/python3.5/site-packages/tensorflow/python/framework/ops.py\", line 2240, in create_op\n    original_op=self._default_original_op, op_def=op_def)\n  File \"/Users/adam/anaconda/lib/python3.5/site-packages/tensorflow/python/framework/ops.py\", line 1128, in __init__\n    self._traceback = _extract_stack()\n\nInvalidArgumentError (see above for traceback): Duplicate tag loss_avg found in summary inputs\n\t [[Node: MergeSummary_1/MergeSummary = MergeSummary[N=28, _device=\"/job:localhost/replica:0/task:0/cpu:0\"](ScalarSummary, ScalarSummary_1, HistogramSummary, HistogramSummary_1, HistogramSummary_2, HistogramSummary_3, HistogramSummary_4, HistogramSummary_5, HistogramSummary_6, HistogramSummary_7, ScalarSummary_2, ScalarSummary_3, HistogramSummary_8, HistogramSummary_9, HistogramSummary_10, HistogramSummary_11, HistogramSummary_12, HistogramSummary_13, HistogramSummary_14, HistogramSummary_15, HistogramSummary_16, HistogramSummary_17, HistogramSummary_18, HistogramSummary_19, HistogramSummary_20, HistogramSummary_21, HistogramSummary_22, HistogramSummary_23)]]\n",
     "output_type": "error",
     "traceback": [
      "\u001b[0;31m---------------------------------------------------------------------------\u001b[0m",
      "\u001b[0;31mInvalidArgumentError\u001b[0m                      Traceback (most recent call last)",
      "\u001b[0;32m/Users/adam/anaconda/lib/python3.5/site-packages/tensorflow/python/client/session.py\u001b[0m in \u001b[0;36m_do_call\u001b[0;34m(self, fn, *args)\u001b[0m\n\u001b[1;32m   1020\u001b[0m     \u001b[0;32mtry\u001b[0m\u001b[0;34m:\u001b[0m\u001b[0;34m\u001b[0m\u001b[0m\n\u001b[0;32m-> 1021\u001b[0;31m       \u001b[0;32mreturn\u001b[0m \u001b[0mfn\u001b[0m\u001b[0;34m(\u001b[0m\u001b[0;34m*\u001b[0m\u001b[0margs\u001b[0m\u001b[0;34m)\u001b[0m\u001b[0;34m\u001b[0m\u001b[0m\n\u001b[0m\u001b[1;32m   1022\u001b[0m     \u001b[0;32mexcept\u001b[0m \u001b[0merrors\u001b[0m\u001b[0;34m.\u001b[0m\u001b[0mOpError\u001b[0m \u001b[0;32mas\u001b[0m \u001b[0me\u001b[0m\u001b[0;34m:\u001b[0m\u001b[0;34m\u001b[0m\u001b[0m\n",
      "\u001b[0;32m/Users/adam/anaconda/lib/python3.5/site-packages/tensorflow/python/client/session.py\u001b[0m in \u001b[0;36m_run_fn\u001b[0;34m(session, feed_dict, fetch_list, target_list, options, run_metadata)\u001b[0m\n\u001b[1;32m   1002\u001b[0m                                  \u001b[0mfeed_dict\u001b[0m\u001b[0;34m,\u001b[0m \u001b[0mfetch_list\u001b[0m\u001b[0;34m,\u001b[0m \u001b[0mtarget_list\u001b[0m\u001b[0;34m,\u001b[0m\u001b[0;34m\u001b[0m\u001b[0m\n\u001b[0;32m-> 1003\u001b[0;31m                                  status, run_metadata)\n\u001b[0m\u001b[1;32m   1004\u001b[0m \u001b[0;34m\u001b[0m\u001b[0m\n",
      "\u001b[0;32m/Users/adam/anaconda/lib/python3.5/contextlib.py\u001b[0m in \u001b[0;36m__exit__\u001b[0;34m(self, type, value, traceback)\u001b[0m\n\u001b[1;32m     65\u001b[0m             \u001b[0;32mtry\u001b[0m\u001b[0;34m:\u001b[0m\u001b[0;34m\u001b[0m\u001b[0m\n\u001b[0;32m---> 66\u001b[0;31m                 \u001b[0mnext\u001b[0m\u001b[0;34m(\u001b[0m\u001b[0mself\u001b[0m\u001b[0;34m.\u001b[0m\u001b[0mgen\u001b[0m\u001b[0;34m)\u001b[0m\u001b[0;34m\u001b[0m\u001b[0m\n\u001b[0m\u001b[1;32m     67\u001b[0m             \u001b[0;32mexcept\u001b[0m \u001b[0mStopIteration\u001b[0m\u001b[0;34m:\u001b[0m\u001b[0;34m\u001b[0m\u001b[0m\n",
      "\u001b[0;32m/Users/adam/anaconda/lib/python3.5/site-packages/tensorflow/python/framework/errors_impl.py\u001b[0m in \u001b[0;36mraise_exception_on_not_ok_status\u001b[0;34m()\u001b[0m\n\u001b[1;32m    468\u001b[0m           \u001b[0mcompat\u001b[0m\u001b[0;34m.\u001b[0m\u001b[0mas_text\u001b[0m\u001b[0;34m(\u001b[0m\u001b[0mpywrap_tensorflow\u001b[0m\u001b[0;34m.\u001b[0m\u001b[0mTF_Message\u001b[0m\u001b[0;34m(\u001b[0m\u001b[0mstatus\u001b[0m\u001b[0;34m)\u001b[0m\u001b[0;34m)\u001b[0m\u001b[0;34m,\u001b[0m\u001b[0;34m\u001b[0m\u001b[0m\n\u001b[0;32m--> 469\u001b[0;31m           pywrap_tensorflow.TF_GetCode(status))\n\u001b[0m\u001b[1;32m    470\u001b[0m   \u001b[0;32mfinally\u001b[0m\u001b[0;34m:\u001b[0m\u001b[0;34m\u001b[0m\u001b[0m\n",
      "\u001b[0;31mInvalidArgumentError\u001b[0m: Duplicate tag loss_avg found in summary inputs\n\t [[Node: MergeSummary_1/MergeSummary = MergeSummary[N=28, _device=\"/job:localhost/replica:0/task:0/cpu:0\"](ScalarSummary, ScalarSummary_1, HistogramSummary, HistogramSummary_1, HistogramSummary_2, HistogramSummary_3, HistogramSummary_4, HistogramSummary_5, HistogramSummary_6, HistogramSummary_7, ScalarSummary_2, ScalarSummary_3, HistogramSummary_8, HistogramSummary_9, HistogramSummary_10, HistogramSummary_11, HistogramSummary_12, HistogramSummary_13, HistogramSummary_14, HistogramSummary_15, HistogramSummary_16, HistogramSummary_17, HistogramSummary_18, HistogramSummary_19, HistogramSummary_20, HistogramSummary_21, HistogramSummary_22, HistogramSummary_23)]]",
      "\nDuring handling of the above exception, another exception occurred:\n",
      "\u001b[0;31mInvalidArgumentError\u001b[0m                      Traceback (most recent call last)",
      "\u001b[0;32m<ipython-input-6-1e325e940baf>\u001b[0m in \u001b[0;36m<module>\u001b[0;34m()\u001b[0m\n\u001b[1;32m      3\u001b[0m                           \u001b[0;34m'/Users/adam/Documents/projects/chess_deep_learning/log/'\u001b[0m\u001b[0;34m,\u001b[0m\u001b[0;34m\u001b[0m\u001b[0m\n\u001b[1;32m      4\u001b[0m                           '/Users/adam/Documents/projects/chess_deep_learning/checkpoints/')\n\u001b[0;32m----> 5\u001b[0;31m \u001b[0mnn_agent\u001b[0m\u001b[0;34m.\u001b[0m\u001b[0mtrain\u001b[0m\u001b[0;34m(\u001b[0m\u001b[0;36m1\u001b[0m\u001b[0;34m,\u001b[0m \u001b[0;36m1\u001b[0m\u001b[0;34m,\u001b[0m \u001b[0;36m0.1\u001b[0m\u001b[0;34m)\u001b[0m\u001b[0;34m\u001b[0m\u001b[0m\n\u001b[0m\u001b[1;32m      6\u001b[0m \u001b[0;34m\u001b[0m\u001b[0m\n\u001b[1;32m      7\u001b[0m \u001b[0;31m#     random_agent = RandomAgent()\u001b[0m\u001b[0;34m\u001b[0m\u001b[0;34m\u001b[0m\u001b[0m\n",
      "\u001b[0;32m<ipython-input-3-cf5a3013964c>\u001b[0m in \u001b[0;36mtrain\u001b[0;34m(self, num_epochs, batch_size, epsilon)\u001b[0m\n\u001b[1;32m    134\u001b[0m             \u001b[0mself\u001b[0m\u001b[0;34m.\u001b[0m\u001b[0msess\u001b[0m\u001b[0;34m.\u001b[0m\u001b[0mrun\u001b[0m\u001b[0;34m(\u001b[0m\u001b[0mself\u001b[0m\u001b[0;34m.\u001b[0m\u001b[0mapply_gradients_op\u001b[0m\u001b[0;34m)\u001b[0m\u001b[0;34m\u001b[0m\u001b[0m\n\u001b[1;32m    135\u001b[0m \u001b[0;34m\u001b[0m\u001b[0m\n\u001b[0;32m--> 136\u001b[0;31m             \u001b[0msummary\u001b[0m \u001b[0;34m=\u001b[0m \u001b[0mself\u001b[0m\u001b[0;34m.\u001b[0m\u001b[0msess\u001b[0m\u001b[0;34m.\u001b[0m\u001b[0mrun\u001b[0m\u001b[0;34m(\u001b[0m\u001b[0mself\u001b[0m\u001b[0;34m.\u001b[0m\u001b[0msummaries_op\u001b[0m\u001b[0;34m)\u001b[0m\u001b[0;34m\u001b[0m\u001b[0m\n\u001b[0m\u001b[1;32m    137\u001b[0m             \u001b[0msummary_writer\u001b[0m\u001b[0;34m.\u001b[0m\u001b[0madd_summary\u001b[0m\u001b[0;34m(\u001b[0m\u001b[0msummary\u001b[0m\u001b[0;34m,\u001b[0m \u001b[0mepoch\u001b[0m\u001b[0;34m)\u001b[0m\u001b[0;34m\u001b[0m\u001b[0m\n\u001b[1;32m    138\u001b[0m             self.sess.run([self.loss_sum_reset_op, \n",
      "\u001b[0;32m/Users/adam/anaconda/lib/python3.5/site-packages/tensorflow/python/client/session.py\u001b[0m in \u001b[0;36mrun\u001b[0;34m(self, fetches, feed_dict, options, run_metadata)\u001b[0m\n\u001b[1;32m    764\u001b[0m     \u001b[0;32mtry\u001b[0m\u001b[0;34m:\u001b[0m\u001b[0;34m\u001b[0m\u001b[0m\n\u001b[1;32m    765\u001b[0m       result = self._run(None, fetches, feed_dict, options_ptr,\n\u001b[0;32m--> 766\u001b[0;31m                          run_metadata_ptr)\n\u001b[0m\u001b[1;32m    767\u001b[0m       \u001b[0;32mif\u001b[0m \u001b[0mrun_metadata\u001b[0m\u001b[0;34m:\u001b[0m\u001b[0;34m\u001b[0m\u001b[0m\n\u001b[1;32m    768\u001b[0m         \u001b[0mproto_data\u001b[0m \u001b[0;34m=\u001b[0m \u001b[0mtf_session\u001b[0m\u001b[0;34m.\u001b[0m\u001b[0mTF_GetBuffer\u001b[0m\u001b[0;34m(\u001b[0m\u001b[0mrun_metadata_ptr\u001b[0m\u001b[0;34m)\u001b[0m\u001b[0;34m\u001b[0m\u001b[0m\n",
      "\u001b[0;32m/Users/adam/anaconda/lib/python3.5/site-packages/tensorflow/python/client/session.py\u001b[0m in \u001b[0;36m_run\u001b[0;34m(self, handle, fetches, feed_dict, options, run_metadata)\u001b[0m\n\u001b[1;32m    962\u001b[0m     \u001b[0;32mif\u001b[0m \u001b[0mfinal_fetches\u001b[0m \u001b[0;32mor\u001b[0m \u001b[0mfinal_targets\u001b[0m\u001b[0;34m:\u001b[0m\u001b[0;34m\u001b[0m\u001b[0m\n\u001b[1;32m    963\u001b[0m       results = self._do_run(handle, final_targets, final_fetches,\n\u001b[0;32m--> 964\u001b[0;31m                              feed_dict_string, options, run_metadata)\n\u001b[0m\u001b[1;32m    965\u001b[0m     \u001b[0;32melse\u001b[0m\u001b[0;34m:\u001b[0m\u001b[0;34m\u001b[0m\u001b[0m\n\u001b[1;32m    966\u001b[0m       \u001b[0mresults\u001b[0m \u001b[0;34m=\u001b[0m \u001b[0;34m[\u001b[0m\u001b[0;34m]\u001b[0m\u001b[0;34m\u001b[0m\u001b[0m\n",
      "\u001b[0;32m/Users/adam/anaconda/lib/python3.5/site-packages/tensorflow/python/client/session.py\u001b[0m in \u001b[0;36m_do_run\u001b[0;34m(self, handle, target_list, fetch_list, feed_dict, options, run_metadata)\u001b[0m\n\u001b[1;32m   1012\u001b[0m     \u001b[0;32mif\u001b[0m \u001b[0mhandle\u001b[0m \u001b[0;32mis\u001b[0m \u001b[0;32mNone\u001b[0m\u001b[0;34m:\u001b[0m\u001b[0;34m\u001b[0m\u001b[0m\n\u001b[1;32m   1013\u001b[0m       return self._do_call(_run_fn, self._session, feed_dict, fetch_list,\n\u001b[0;32m-> 1014\u001b[0;31m                            target_list, options, run_metadata)\n\u001b[0m\u001b[1;32m   1015\u001b[0m     \u001b[0;32melse\u001b[0m\u001b[0;34m:\u001b[0m\u001b[0;34m\u001b[0m\u001b[0m\n\u001b[1;32m   1016\u001b[0m       return self._do_call(_prun_fn, self._session, handle, feed_dict,\n",
      "\u001b[0;32m/Users/adam/anaconda/lib/python3.5/site-packages/tensorflow/python/client/session.py\u001b[0m in \u001b[0;36m_do_call\u001b[0;34m(self, fn, *args)\u001b[0m\n\u001b[1;32m   1032\u001b[0m         \u001b[0;32mexcept\u001b[0m \u001b[0mKeyError\u001b[0m\u001b[0;34m:\u001b[0m\u001b[0;34m\u001b[0m\u001b[0m\n\u001b[1;32m   1033\u001b[0m           \u001b[0;32mpass\u001b[0m\u001b[0;34m\u001b[0m\u001b[0m\n\u001b[0;32m-> 1034\u001b[0;31m       \u001b[0;32mraise\u001b[0m \u001b[0mtype\u001b[0m\u001b[0;34m(\u001b[0m\u001b[0me\u001b[0m\u001b[0;34m)\u001b[0m\u001b[0;34m(\u001b[0m\u001b[0mnode_def\u001b[0m\u001b[0;34m,\u001b[0m \u001b[0mop\u001b[0m\u001b[0;34m,\u001b[0m \u001b[0mmessage\u001b[0m\u001b[0;34m)\u001b[0m\u001b[0;34m\u001b[0m\u001b[0m\n\u001b[0m\u001b[1;32m   1035\u001b[0m \u001b[0;34m\u001b[0m\u001b[0m\n\u001b[1;32m   1036\u001b[0m   \u001b[0;32mdef\u001b[0m \u001b[0m_extend_graph\u001b[0m\u001b[0;34m(\u001b[0m\u001b[0mself\u001b[0m\u001b[0;34m)\u001b[0m\u001b[0;34m:\u001b[0m\u001b[0;34m\u001b[0m\u001b[0m\n",
      "\u001b[0;31mInvalidArgumentError\u001b[0m: Duplicate tag loss_avg found in summary inputs\n\t [[Node: MergeSummary_1/MergeSummary = MergeSummary[N=28, _device=\"/job:localhost/replica:0/task:0/cpu:0\"](ScalarSummary, ScalarSummary_1, HistogramSummary, HistogramSummary_1, HistogramSummary_2, HistogramSummary_3, HistogramSummary_4, HistogramSummary_5, HistogramSummary_6, HistogramSummary_7, ScalarSummary_2, ScalarSummary_3, HistogramSummary_8, HistogramSummary_9, HistogramSummary_10, HistogramSummary_11, HistogramSummary_12, HistogramSummary_13, HistogramSummary_14, HistogramSummary_15, HistogramSummary_16, HistogramSummary_17, HistogramSummary_18, HistogramSummary_19, HistogramSummary_20, HistogramSummary_21, HistogramSummary_22, HistogramSummary_23)]]\n\nCaused by op 'MergeSummary_1/MergeSummary', defined at:\n  File \"/Users/adam/anaconda/lib/python3.5/runpy.py\", line 170, in _run_module_as_main\n    \"__main__\", mod_spec)\n  File \"/Users/adam/anaconda/lib/python3.5/runpy.py\", line 85, in _run_code\n    exec(code, run_globals)\n  File \"/Users/adam/anaconda/lib/python3.5/site-packages/ipykernel/__main__.py\", line 3, in <module>\n    app.launch_new_instance()\n  File \"/Users/adam/anaconda/lib/python3.5/site-packages/traitlets/config/application.py\", line 596, in launch_instance\n    app.start()\n  File \"/Users/adam/anaconda/lib/python3.5/site-packages/ipykernel/kernelapp.py\", line 442, in start\n    ioloop.IOLoop.instance().start()\n  File \"/Users/adam/anaconda/lib/python3.5/site-packages/zmq/eventloop/ioloop.py\", line 162, in start\n    super(ZMQIOLoop, self).start()\n  File \"/Users/adam/anaconda/lib/python3.5/site-packages/tornado/ioloop.py\", line 883, in start\n    handler_func(fd_obj, events)\n  File \"/Users/adam/anaconda/lib/python3.5/site-packages/tornado/stack_context.py\", line 275, in null_wrapper\n    return fn(*args, **kwargs)\n  File \"/Users/adam/anaconda/lib/python3.5/site-packages/zmq/eventloop/zmqstream.py\", line 440, in _handle_events\n    self._handle_recv()\n  File \"/Users/adam/anaconda/lib/python3.5/site-packages/zmq/eventloop/zmqstream.py\", line 472, in _handle_recv\n    self._run_callback(callback, msg)\n  File \"/Users/adam/anaconda/lib/python3.5/site-packages/zmq/eventloop/zmqstream.py\", line 414, in _run_callback\n    callback(*args, **kwargs)\n  File \"/Users/adam/anaconda/lib/python3.5/site-packages/tornado/stack_context.py\", line 275, in null_wrapper\n    return fn(*args, **kwargs)\n  File \"/Users/adam/anaconda/lib/python3.5/site-packages/ipykernel/kernelbase.py\", line 276, in dispatcher\n    return self.dispatch_shell(stream, msg)\n  File \"/Users/adam/anaconda/lib/python3.5/site-packages/ipykernel/kernelbase.py\", line 228, in dispatch_shell\n    handler(stream, idents, msg)\n  File \"/Users/adam/anaconda/lib/python3.5/site-packages/ipykernel/kernelbase.py\", line 391, in execute_request\n    user_expressions, allow_stdin)\n  File \"/Users/adam/anaconda/lib/python3.5/site-packages/ipykernel/ipkernel.py\", line 199, in do_execute\n    shell.run_cell(code, store_history=store_history, silent=silent)\n  File \"/Users/adam/anaconda/lib/python3.5/site-packages/IPython/core/interactiveshell.py\", line 2723, in run_cell\n    interactivity=interactivity, compiler=compiler, result=result)\n  File \"/Users/adam/anaconda/lib/python3.5/site-packages/IPython/core/interactiveshell.py\", line 2825, in run_ast_nodes\n    if self.run_code(code, result):\n  File \"/Users/adam/anaconda/lib/python3.5/site-packages/IPython/core/interactiveshell.py\", line 2885, in run_code\n    exec(code_obj, self.user_global_ns, self.user_ns)\n  File \"<ipython-input-6-1e325e940baf>\", line 4, in <module>\n    '/Users/adam/Documents/projects/chess_deep_learning/checkpoints/')\n  File \"<ipython-input-3-cf5a3013964c>\", line 73, in __init__\n    self.summaries_op = tf.merge_all_summaries()\n  File \"/Users/adam/anaconda/lib/python3.5/site-packages/tensorflow/python/ops/logging_ops.py\", line 246, in merge_all_summaries\n    return merge_summary(summary_ops)\n  File \"/Users/adam/anaconda/lib/python3.5/site-packages/tensorflow/python/ops/logging_ops.py\", line 225, in merge_summary\n    val = gen_logging_ops._merge_summary(inputs=inputs, name=name)\n  File \"/Users/adam/anaconda/lib/python3.5/site-packages/tensorflow/python/ops/gen_logging_ops.py\", line 227, in _merge_summary\n    result = _op_def_lib.apply_op(\"MergeSummary\", inputs=inputs, name=name)\n  File \"/Users/adam/anaconda/lib/python3.5/site-packages/tensorflow/python/framework/op_def_library.py\", line 759, in apply_op\n    op_def=op_def)\n  File \"/Users/adam/anaconda/lib/python3.5/site-packages/tensorflow/python/framework/ops.py\", line 2240, in create_op\n    original_op=self._default_original_op, op_def=op_def)\n  File \"/Users/adam/anaconda/lib/python3.5/site-packages/tensorflow/python/framework/ops.py\", line 1128, in __init__\n    self._traceback = _extract_stack()\n\nInvalidArgumentError (see above for traceback): Duplicate tag loss_avg found in summary inputs\n\t [[Node: MergeSummary_1/MergeSummary = MergeSummary[N=28, _device=\"/job:localhost/replica:0/task:0/cpu:0\"](ScalarSummary, ScalarSummary_1, HistogramSummary, HistogramSummary_1, HistogramSummary_2, HistogramSummary_3, HistogramSummary_4, HistogramSummary_5, HistogramSummary_6, HistogramSummary_7, ScalarSummary_2, ScalarSummary_3, HistogramSummary_8, HistogramSummary_9, HistogramSummary_10, HistogramSummary_11, HistogramSummary_12, HistogramSummary_13, HistogramSummary_14, HistogramSummary_15, HistogramSummary_16, HistogramSummary_17, HistogramSummary_18, HistogramSummary_19, HistogramSummary_20, HistogramSummary_21, HistogramSummary_22, HistogramSummary_23)]]\n"
     ]
    }
   ],
   "source": [
    "nn_agent = NeuralNetAgent(sess, \n",
    "                          '/Users/adam/Documents/projects/chess_deep_learning/model/',\n",
    "                          '/Users/adam/Documents/projects/chess_deep_learning/log/',\n",
    "                          '/Users/adam/Documents/projects/chess_deep_learning/checkpoints/')\n",
    "nn_agent.train(1, 1, 0.1)\n",
    "    \n",
    "#     random_agent = RandomAgent()\n",
    "#     env = TicTacToe()\n",
    "#     env.play([nn_agent,random_agent])"
   ]
  },
  {
   "cell_type": "code",
   "execution_count": 2,
   "metadata": {
    "collapsed": true
   },
   "outputs": [],
   "source": [
    "from collections import Counter\n"
   ]
  },
  {
   "cell_type": "code",
   "execution_count": 3,
   "metadata": {
    "collapsed": true
   },
   "outputs": [],
   "source": [
    "l=[1,0,1,-1,1,1,1,0,-1]\n",
    "c = Counter(l)"
   ]
  },
  {
   "cell_type": "code",
   "execution_count": 4,
   "metadata": {
    "collapsed": false
   },
   "outputs": [
    {
     "data": {
      "text/plain": [
       "Counter({-1: 2, 0: 2, 1: 5})"
      ]
     },
     "execution_count": 4,
     "metadata": {},
     "output_type": "execute_result"
    }
   ],
   "source": [
    "c"
   ]
  },
  {
   "cell_type": "code",
   "execution_count": 8,
   "metadata": {
    "collapsed": false
   },
   "outputs": [],
   "source": [
    "c.update([1])"
   ]
  },
  {
   "cell_type": "code",
   "execution_count": 9,
   "metadata": {
    "collapsed": false
   },
   "outputs": [
    {
     "data": {
      "text/plain": [
       "Counter({-1: 2, 0: 2, 1: 6})"
      ]
     },
     "execution_count": 9,
     "metadata": {},
     "output_type": "execute_result"
    }
   ],
   "source": [
    "c"
   ]
  },
  {
   "cell_type": "code",
   "execution_count": 4,
   "metadata": {
    "collapsed": false
   },
   "outputs": [],
   "source": [
    "ttt= TicTacToe()"
   ]
  },
  {
   "cell_type": "code",
   "execution_count": 5,
   "metadata": {
    "collapsed": false
   },
   "outputs": [
    {
     "data": {
      "text/plain": [
       "False"
      ]
     },
     "execution_count": 5,
     "metadata": {},
     "output_type": "execute_result"
    }
   ],
   "source": [
    "ttt.turn"
   ]
  },
  {
   "cell_type": "code",
   "execution_count": 25,
   "metadata": {
    "collapsed": false
   },
   "outputs": [
    {
     "name": "stdout",
     "output_type": "stream",
     "text": [
      "[ 1.]\n",
      "[(array([ 2.], dtype=float32), array([ 1.], dtype=float32))]\n",
      "[-1.]\n"
     ]
    }
   ],
   "source": [
    "c = tf.placeholder(tf.float32,[1],name='c')\n",
    "x = tf.Variable(tf.constant(1.0, shape=[1]), name='x')\n",
    "f = c*x*x\n",
    "# g = tf.gradients(f,x)\n",
    "opt = tf.train.GradientDescentOptimizer(1.0)\n",
    "g = opt.compute_gradients(f,[x])\n",
    "a = opt.apply_gradients(g)\n",
    "init = tf.global_variables_initializer()\n",
    "with tf.Session() as sess:\n",
    "    sess.run(init)\n",
    "    xval = sess.run(x)\n",
    "    print(xval)\n",
    "    grad = sess.run(g, feed_dict={c:[1]})\n",
    "    print(grad)\n",
    "    sess.run(a, feed_dict={c:[1]})\n",
    "    xval = sess.run(x)\n",
    "    print(xval)"
   ]
  },
  {
   "cell_type": "code",
   "execution_count": 1,
   "metadata": {
    "collapsed": false
   },
   "outputs": [
    {
     "data": {
      "text/plain": [
       "4"
      ]
     },
     "execution_count": 1,
     "metadata": {},
     "output_type": "execute_result"
    }
   ],
   "source": [
    "2**2"
   ]
  },
  {
   "cell_type": "code",
   "execution_count": 16,
   "metadata": {
    "collapsed": false
   },
   "outputs": [
    {
     "data": {
      "text/plain": [
       "array([ 1.,  1.,  1.])"
      ]
     },
     "execution_count": 16,
     "metadata": {},
     "output_type": "execute_result"
    }
   ],
   "source": [
    "import numpy as np\n",
    "board = np.zeros((3, 3, 2))\n",
    "board[0,0,0]=1\n",
    "board[1,1,0]=1\n",
    "board[2,2,0]=1\n",
    "\n",
    "board[:, :, 0][np.eye(3) == 1]"
   ]
  },
  {
   "cell_type": "code",
   "execution_count": null,
   "metadata": {
    "collapsed": true
   },
   "outputs": [],
   "source": []
  }
 ],
 "metadata": {
  "kernelspec": {
   "display_name": "Python 3",
   "language": "python",
   "name": "python3"
  },
  "language_info": {
   "codemirror_mode": {
    "name": "ipython",
    "version": 3
   },
   "file_extension": ".py",
   "mimetype": "text/x-python",
   "name": "python",
   "nbconvert_exporter": "python",
   "pygments_lexer": "ipython3",
   "version": "3.5.1"
  }
 },
 "nbformat": 4,
 "nbformat_minor": 0
}
