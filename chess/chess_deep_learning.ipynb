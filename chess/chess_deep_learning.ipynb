{
 "cells": [
  {
   "cell_type": "code",
   "execution_count": 1,
   "metadata": {
    "collapsed": false
   },
   "outputs": [],
   "source": [
    "import numpy as np\n",
    "import random\n",
    "import chess\n",
    "from chess.pgn import read_game\n",
    "from IPython.display import SVG\n",
    "import tensorflow as tf\n",
    "import itertools\n",
    "from copy import copy"
   ]
  },
  {
   "cell_type": "code",
   "execution_count": 2,
   "metadata": {
    "collapsed": false
   },
   "outputs": [],
   "source": [
    "def pad_bitmask(mask):\n",
    "    mask = [int(s) for s in list(bin(mask)[2:])]\n",
    "    while len(mask)<64:\n",
    "        mask.insert(0,0)\n",
    "    return np.array(mask)\n",
    "\n",
    "def bitmask_to_array(mask):\n",
    "    array = pad_bitmask(mask).reshape((8,8))\n",
    "    return array\n",
    "\n",
    "def board_generator(pgn):\n",
    "    while True:\n",
    "        game = read_game(pgn)\n",
    "        if game and len(list(game.main_line()))>0:\n",
    "            node = game\n",
    "            move_number = np.random.randint(0, high=len(list(game.main_line())) - 1) #don't take the last move\n",
    "            while 2*(node.board().fullmove_number-1)+int(not node.board().turn) < move_number:\n",
    "                next_node = node.variation(0)\n",
    "                node = next_node\n",
    "            yield node.board()\n",
    "        else:\n",
    "            pgn.seek(0)\n",
    "\n",
    "def get_feature_matrix(board, flip_to_white_to_play=True):\n",
    "    feature_matrix = np.zeros((len(chess.PIECE_TYPES)+3, len(chess.COLORS), 64))\n",
    "\n",
    "    for piece in chess.PIECE_TYPES:\n",
    "        for color in chess.COLORS:\n",
    "            feature_matrix[piece, int(color),:] = pad_bitmask(board.pieces_mask(piece, color))\n",
    "    if board.ep_square:\n",
    "        feature_matrix[piece+1, int(not(board.turn)), -board.ep_square-1] = 1\n",
    "    for color in chess.COLORS:\n",
    "        feature_matrix[piece+2, int(color), :] = pad_bitmask(board.castling_rights)\n",
    "\n",
    "    feature_matrix = feature_matrix.reshape(((8, 8, len(chess.PIECE_TYPES)+3, len(chess.COLORS))))\n",
    "    \n",
    "    if flip_to_white_to_play and not board.turn:\n",
    "        feature_matrix = feature_matrix[::-1,::-1,:,::-1]\n",
    "    \n",
    "    feature_matrix = feature_matrix.reshape(((8, 8, (len(chess.PIECE_TYPES)+3) * len(chess.COLORS))))\n",
    "    return feature_matrix\n",
    "\n",
    "def make_random_move(board):\n",
    "    random_move = random.choice(list(board.legal_moves))\n",
    "    board.push(random_move)\n",
    "    return board\n",
    "\n",
    "def batch_generator(pgn, batch_size):\n",
    "    boards = board_generator(pgn)\n",
    "    batch = []\n",
    "    for idx, board in enumerate(boards):\n",
    "        make_random_move(board)\n",
    "        batch.append(board)\n",
    "        if (idx+1)%batch_size == 0:\n",
    "            yield batch\n",
    "            batch = []\n",
    "\n",
    "def get_candidate_boards(board):\n",
    "    candidate_boards = []\n",
    "    for candidate_move in list(board.legal_moves):\n",
    "        candidate_board = copy(board)\n",
    "        candidate_board.push(candidate_move)\n",
    "        candidate_boards.append(candidate_board)\n",
    "    return candidate_boards\n",
    "\n",
    "def sigmoid(x):\n",
    "    return 1 / (1 + np.exp(-x))"
   ]
  },
  {
   "cell_type": "code",
   "execution_count": 3,
   "metadata": {
    "collapsed": true
   },
   "outputs": [],
   "source": [
    "def weight_variable(shape):\n",
    "    initial = tf.truncated_normal(shape, stddev=0.1)\n",
    "    return tf.Variable(initial)\n",
    "\n",
    "def bias_variable(shape):\n",
    "    initial = tf.constant(0.1, shape=shape)\n",
    "    return tf.Variable(initial)\n",
    "\n",
    "def conv2d(x, W):\n",
    "    return tf.nn.conv2d(x, W, strides=[1, 1, 1, 1], padding='SAME')\n",
    "\n",
    "def max_pool_2x2(x):\n",
    "    return tf.nn.max_pool(x, ksize=[1, 2, 2, 1], strides=[1, 2, 2, 1], padding='SAME')"
   ]
  },
  {
   "cell_type": "code",
   "execution_count": 49,
   "metadata": {
    "collapsed": false
   },
   "outputs": [],
   "source": [
    "input_matrix = tf.placeholder(tf.float32, shape=[None,8,8,18])\n",
    "\n",
    "W_conv1 = weight_variable([3, 3, 18, 32])\n",
    "b_conv1 = bias_variable([32])\n",
    "\n",
    "h_conv1 = tf.nn.relu(conv2d(input_matrix, W_conv1) + b_conv1)\n",
    "h_pool1 = max_pool_2x2(h_conv1)\n",
    "\n",
    "W_conv2 = weight_variable([2, 2, 32, 64])\n",
    "b_conv2 = bias_variable([64])\n",
    "\n",
    "h_conv2 = tf.nn.relu(conv2d(h_pool1, W_conv2) + b_conv2)\n",
    "h_pool2 = max_pool_2x2(h_conv2)\n",
    "\n",
    "W_fc1 = weight_variable([2 * 2 * 64, 1024])\n",
    "b_fc1 = bias_variable([1024])\n",
    "\n",
    "h_pool2_flat = tf.reshape(h_pool2, [-1, 2*2*64])\n",
    "h_fc1 = tf.nn.relu(tf.matmul(h_pool2_flat, W_fc1) + b_fc1)\n",
    "\n",
    "keep_prob = tf.placeholder(tf.float32)\n",
    "h_fc1_drop = tf.nn.dropout(h_fc1, keep_prob)\n",
    "\n",
    "W_fc2 = weight_variable([1024, 1])\n",
    "b_fc2 = bias_variable([1])\n",
    "\n",
    "J = tf.nn.tanh(tf.matmul(h_fc1_drop, W_fc2) + b_fc2)\n",
    "weights = [W_conv1, b_conv1, W_conv2, b_conv2, W_fc1, b_fc1, W_fc2, b_fc2]\n",
    "var_grad = tf.gradients(J, weights)"
   ]
  },
  {
   "cell_type": "code",
   "execution_count": 50,
   "metadata": {
    "collapsed": false
   },
   "outputs": [
    {
     "name": "stdout",
     "output_type": "stream",
     "text": [
      "batch number: 0\n",
      "13.8122\n",
      "batch number: 1\n",
      "47.3668\n",
      "batch number: 2\n",
      "13.2763\n",
      "batch number: 3\n",
      "15.1296\n",
      "batch number: 4\n",
      "4.54171\n",
      "batch number: 5\n",
      "19.8767\n",
      "batch number: 6\n",
      "19.7653\n",
      "batch number: 7\n",
      "6.59646\n",
      "batch number: 8\n",
      "19.2407\n",
      "batch number: 9\n",
      "21.8664\n",
      "batch number: 10\n",
      "10.5356\n",
      "batch number: 11\n",
      "13.8739\n",
      "batch number: 12\n",
      "14.898\n",
      "batch number: 13\n",
      "19.0734\n",
      "batch number: 14\n",
      "4.53538\n",
      "batch number: 15\n",
      "21.3374\n",
      "batch number: 16\n",
      "12.4113\n",
      "batch number: 17\n",
      "12.7048\n",
      "batch number: 18\n",
      "16.5464\n",
      "batch number: 19\n",
      "13.7783\n",
      "batch number: 20\n"
     ]
    },
    {
     "ename": "KeyboardInterrupt",
     "evalue": "",
     "output_type": "error",
     "traceback": [
      "\u001b[0;31m---------------------------------------------------------------------------\u001b[0m",
      "\u001b[0;31mKeyboardInterrupt\u001b[0m                         Traceback (most recent call last)",
      "\u001b[0;32m<ipython-input-50-67d1256ca985>\u001b[0m in \u001b[0;36m<module>\u001b[0;34m()\u001b[0m\n\u001b[1;32m     20\u001b[0m                 \u001b[0mcandidate_boards\u001b[0m \u001b[0;34m=\u001b[0m \u001b[0mget_candidate_boards\u001b[0m\u001b[0;34m(\u001b[0m\u001b[0mboard_seq\u001b[0m\u001b[0;34m[\u001b[0m\u001b[0mmove_number\u001b[0m\u001b[0;34m]\u001b[0m\u001b[0;34m)\u001b[0m\u001b[0;34m\u001b[0m\u001b[0m\n\u001b[1;32m     21\u001b[0m                 \u001b[0;32mif\u001b[0m \u001b[0mlen\u001b[0m\u001b[0;34m(\u001b[0m\u001b[0mcandidate_boards\u001b[0m\u001b[0;34m)\u001b[0m\u001b[0;34m:\u001b[0m\u001b[0;34m\u001b[0m\u001b[0m\n\u001b[0;32m---> 22\u001b[0;31m                     \u001b[0mcandidate_feature_matrices\u001b[0m \u001b[0;34m=\u001b[0m \u001b[0mnp\u001b[0m\u001b[0;34m.\u001b[0m\u001b[0marray\u001b[0m\u001b[0;34m(\u001b[0m\u001b[0;34m[\u001b[0m\u001b[0mget_feature_matrix\u001b[0m\u001b[0;34m(\u001b[0m\u001b[0mcandidate_board\u001b[0m\u001b[0;34m)\u001b[0m \u001b[0;32mfor\u001b[0m \u001b[0mcandidate_board\u001b[0m \u001b[0;32min\u001b[0m \u001b[0mcandidate_boards\u001b[0m\u001b[0;34m]\u001b[0m\u001b[0;34m)\u001b[0m\u001b[0;34m\u001b[0m\u001b[0m\n\u001b[0m\u001b[1;32m     23\u001b[0m \u001b[0;34m\u001b[0m\u001b[0m\n\u001b[1;32m     24\u001b[0m                     \u001b[0mJs\u001b[0m \u001b[0;34m=\u001b[0m \u001b[0msess\u001b[0m\u001b[0;34m.\u001b[0m\u001b[0mrun\u001b[0m\u001b[0;34m(\u001b[0m\u001b[0mJ\u001b[0m\u001b[0;34m,\u001b[0m \u001b[0mfeed_dict\u001b[0m\u001b[0;34m=\u001b[0m\u001b[0;34m{\u001b[0m\u001b[0minput_matrix\u001b[0m\u001b[0;34m:\u001b[0m \u001b[0mcandidate_feature_matrices\u001b[0m\u001b[0;34m,\u001b[0m \u001b[0mkeep_prob\u001b[0m\u001b[0;34m:\u001b[0m \u001b[0;36m1.0\u001b[0m\u001b[0;34m}\u001b[0m\u001b[0;34m)\u001b[0m\u001b[0;34m\u001b[0m\u001b[0m\n",
      "\u001b[0;32m<ipython-input-50-67d1256ca985>\u001b[0m in \u001b[0;36m<listcomp>\u001b[0;34m(.0)\u001b[0m\n\u001b[1;32m     20\u001b[0m                 \u001b[0mcandidate_boards\u001b[0m \u001b[0;34m=\u001b[0m \u001b[0mget_candidate_boards\u001b[0m\u001b[0;34m(\u001b[0m\u001b[0mboard_seq\u001b[0m\u001b[0;34m[\u001b[0m\u001b[0mmove_number\u001b[0m\u001b[0;34m]\u001b[0m\u001b[0;34m)\u001b[0m\u001b[0;34m\u001b[0m\u001b[0m\n\u001b[1;32m     21\u001b[0m                 \u001b[0;32mif\u001b[0m \u001b[0mlen\u001b[0m\u001b[0;34m(\u001b[0m\u001b[0mcandidate_boards\u001b[0m\u001b[0;34m)\u001b[0m\u001b[0;34m:\u001b[0m\u001b[0;34m\u001b[0m\u001b[0m\n\u001b[0;32m---> 22\u001b[0;31m                     \u001b[0mcandidate_feature_matrices\u001b[0m \u001b[0;34m=\u001b[0m \u001b[0mnp\u001b[0m\u001b[0;34m.\u001b[0m\u001b[0marray\u001b[0m\u001b[0;34m(\u001b[0m\u001b[0;34m[\u001b[0m\u001b[0mget_feature_matrix\u001b[0m\u001b[0;34m(\u001b[0m\u001b[0mcandidate_board\u001b[0m\u001b[0;34m)\u001b[0m \u001b[0;32mfor\u001b[0m \u001b[0mcandidate_board\u001b[0m \u001b[0;32min\u001b[0m \u001b[0mcandidate_boards\u001b[0m\u001b[0;34m]\u001b[0m\u001b[0;34m)\u001b[0m\u001b[0;34m\u001b[0m\u001b[0m\n\u001b[0m\u001b[1;32m     23\u001b[0m \u001b[0;34m\u001b[0m\u001b[0m\n\u001b[1;32m     24\u001b[0m                     \u001b[0mJs\u001b[0m \u001b[0;34m=\u001b[0m \u001b[0msess\u001b[0m\u001b[0;34m.\u001b[0m\u001b[0mrun\u001b[0m\u001b[0;34m(\u001b[0m\u001b[0mJ\u001b[0m\u001b[0;34m,\u001b[0m \u001b[0mfeed_dict\u001b[0m\u001b[0;34m=\u001b[0m\u001b[0;34m{\u001b[0m\u001b[0minput_matrix\u001b[0m\u001b[0;34m:\u001b[0m \u001b[0mcandidate_feature_matrices\u001b[0m\u001b[0;34m,\u001b[0m \u001b[0mkeep_prob\u001b[0m\u001b[0;34m:\u001b[0m \u001b[0;36m1.0\u001b[0m\u001b[0;34m}\u001b[0m\u001b[0;34m)\u001b[0m\u001b[0;34m\u001b[0m\u001b[0m\n",
      "\u001b[0;32m<ipython-input-2-fdd0e3953739>\u001b[0m in \u001b[0;36mget_feature_matrix\u001b[0;34m(board, flip_to_white_to_play)\u001b[0m\n\u001b[1;32m     27\u001b[0m     \u001b[0;32mfor\u001b[0m \u001b[0mpiece\u001b[0m \u001b[0;32min\u001b[0m \u001b[0mchess\u001b[0m\u001b[0;34m.\u001b[0m\u001b[0mPIECE_TYPES\u001b[0m\u001b[0;34m:\u001b[0m\u001b[0;34m\u001b[0m\u001b[0m\n\u001b[1;32m     28\u001b[0m         \u001b[0;32mfor\u001b[0m \u001b[0mcolor\u001b[0m \u001b[0;32min\u001b[0m \u001b[0mchess\u001b[0m\u001b[0;34m.\u001b[0m\u001b[0mCOLORS\u001b[0m\u001b[0;34m:\u001b[0m\u001b[0;34m\u001b[0m\u001b[0m\n\u001b[0;32m---> 29\u001b[0;31m             \u001b[0mfeature_matrix\u001b[0m\u001b[0;34m[\u001b[0m\u001b[0mpiece\u001b[0m\u001b[0;34m,\u001b[0m \u001b[0mint\u001b[0m\u001b[0;34m(\u001b[0m\u001b[0mcolor\u001b[0m\u001b[0;34m)\u001b[0m\u001b[0;34m,\u001b[0m\u001b[0;34m:\u001b[0m\u001b[0;34m]\u001b[0m \u001b[0;34m=\u001b[0m \u001b[0mpad_bitmask\u001b[0m\u001b[0;34m(\u001b[0m\u001b[0mboard\u001b[0m\u001b[0;34m.\u001b[0m\u001b[0mpieces_mask\u001b[0m\u001b[0;34m(\u001b[0m\u001b[0mpiece\u001b[0m\u001b[0;34m,\u001b[0m \u001b[0mcolor\u001b[0m\u001b[0;34m)\u001b[0m\u001b[0;34m)\u001b[0m\u001b[0;34m\u001b[0m\u001b[0m\n\u001b[0m\u001b[1;32m     30\u001b[0m     \u001b[0;32mif\u001b[0m \u001b[0mboard\u001b[0m\u001b[0;34m.\u001b[0m\u001b[0mep_square\u001b[0m\u001b[0;34m:\u001b[0m\u001b[0;34m\u001b[0m\u001b[0m\n\u001b[1;32m     31\u001b[0m         \u001b[0mfeature_matrix\u001b[0m\u001b[0;34m[\u001b[0m\u001b[0mpiece\u001b[0m\u001b[0;34m+\u001b[0m\u001b[0;36m1\u001b[0m\u001b[0;34m,\u001b[0m \u001b[0mint\u001b[0m\u001b[0;34m(\u001b[0m\u001b[0;32mnot\u001b[0m\u001b[0;34m(\u001b[0m\u001b[0mboard\u001b[0m\u001b[0;34m.\u001b[0m\u001b[0mturn\u001b[0m\u001b[0;34m)\u001b[0m\u001b[0;34m)\u001b[0m\u001b[0;34m,\u001b[0m \u001b[0;34m-\u001b[0m\u001b[0mboard\u001b[0m\u001b[0;34m.\u001b[0m\u001b[0mep_square\u001b[0m\u001b[0;34m-\u001b[0m\u001b[0;36m1\u001b[0m\u001b[0;34m]\u001b[0m \u001b[0;34m=\u001b[0m \u001b[0;36m1\u001b[0m\u001b[0;34m\u001b[0m\u001b[0m\n",
      "\u001b[0;32m<ipython-input-2-fdd0e3953739>\u001b[0m in \u001b[0;36mpad_bitmask\u001b[0;34m(mask)\u001b[0m\n\u001b[1;32m      1\u001b[0m \u001b[0;32mdef\u001b[0m \u001b[0mpad_bitmask\u001b[0m\u001b[0;34m(\u001b[0m\u001b[0mmask\u001b[0m\u001b[0;34m)\u001b[0m\u001b[0;34m:\u001b[0m\u001b[0;34m\u001b[0m\u001b[0m\n\u001b[0;32m----> 2\u001b[0;31m     \u001b[0mmask\u001b[0m \u001b[0;34m=\u001b[0m \u001b[0;34m[\u001b[0m\u001b[0mint\u001b[0m\u001b[0;34m(\u001b[0m\u001b[0ms\u001b[0m\u001b[0;34m)\u001b[0m \u001b[0;32mfor\u001b[0m \u001b[0ms\u001b[0m \u001b[0;32min\u001b[0m \u001b[0mlist\u001b[0m\u001b[0;34m(\u001b[0m\u001b[0mbin\u001b[0m\u001b[0;34m(\u001b[0m\u001b[0mmask\u001b[0m\u001b[0;34m)\u001b[0m\u001b[0;34m[\u001b[0m\u001b[0;36m2\u001b[0m\u001b[0;34m:\u001b[0m\u001b[0;34m]\u001b[0m\u001b[0;34m)\u001b[0m\u001b[0;34m]\u001b[0m\u001b[0;34m\u001b[0m\u001b[0m\n\u001b[0m\u001b[1;32m      3\u001b[0m     \u001b[0;32mwhile\u001b[0m \u001b[0mlen\u001b[0m\u001b[0;34m(\u001b[0m\u001b[0mmask\u001b[0m\u001b[0;34m)\u001b[0m\u001b[0;34m<\u001b[0m\u001b[0;36m64\u001b[0m\u001b[0;34m:\u001b[0m\u001b[0;34m\u001b[0m\u001b[0m\n\u001b[1;32m      4\u001b[0m         \u001b[0mmask\u001b[0m\u001b[0;34m.\u001b[0m\u001b[0minsert\u001b[0m\u001b[0;34m(\u001b[0m\u001b[0;36m0\u001b[0m\u001b[0;34m,\u001b[0m\u001b[0;36m0\u001b[0m\u001b[0;34m)\u001b[0m\u001b[0;34m\u001b[0m\u001b[0m\n\u001b[1;32m      5\u001b[0m     \u001b[0;32mreturn\u001b[0m \u001b[0mnp\u001b[0m\u001b[0;34m.\u001b[0m\u001b[0marray\u001b[0m\u001b[0;34m(\u001b[0m\u001b[0mmask\u001b[0m\u001b[0;34m)\u001b[0m\u001b[0;34m\u001b[0m\u001b[0m\n",
      "\u001b[0;32m<ipython-input-2-fdd0e3953739>\u001b[0m in \u001b[0;36m<listcomp>\u001b[0;34m(.0)\u001b[0m\n\u001b[1;32m      1\u001b[0m \u001b[0;32mdef\u001b[0m \u001b[0mpad_bitmask\u001b[0m\u001b[0;34m(\u001b[0m\u001b[0mmask\u001b[0m\u001b[0;34m)\u001b[0m\u001b[0;34m:\u001b[0m\u001b[0;34m\u001b[0m\u001b[0m\n\u001b[0;32m----> 2\u001b[0;31m     \u001b[0mmask\u001b[0m \u001b[0;34m=\u001b[0m \u001b[0;34m[\u001b[0m\u001b[0mint\u001b[0m\u001b[0;34m(\u001b[0m\u001b[0ms\u001b[0m\u001b[0;34m)\u001b[0m \u001b[0;32mfor\u001b[0m \u001b[0ms\u001b[0m \u001b[0;32min\u001b[0m \u001b[0mlist\u001b[0m\u001b[0;34m(\u001b[0m\u001b[0mbin\u001b[0m\u001b[0;34m(\u001b[0m\u001b[0mmask\u001b[0m\u001b[0;34m)\u001b[0m\u001b[0;34m[\u001b[0m\u001b[0;36m2\u001b[0m\u001b[0;34m:\u001b[0m\u001b[0;34m]\u001b[0m\u001b[0;34m)\u001b[0m\u001b[0;34m]\u001b[0m\u001b[0;34m\u001b[0m\u001b[0m\n\u001b[0m\u001b[1;32m      3\u001b[0m     \u001b[0;32mwhile\u001b[0m \u001b[0mlen\u001b[0m\u001b[0;34m(\u001b[0m\u001b[0mmask\u001b[0m\u001b[0;34m)\u001b[0m\u001b[0;34m<\u001b[0m\u001b[0;36m64\u001b[0m\u001b[0;34m:\u001b[0m\u001b[0;34m\u001b[0m\u001b[0m\n\u001b[1;32m      4\u001b[0m         \u001b[0mmask\u001b[0m\u001b[0;34m.\u001b[0m\u001b[0minsert\u001b[0m\u001b[0;34m(\u001b[0m\u001b[0;36m0\u001b[0m\u001b[0;34m,\u001b[0m\u001b[0;36m0\u001b[0m\u001b[0;34m)\u001b[0m\u001b[0;34m\u001b[0m\u001b[0m\n\u001b[1;32m      5\u001b[0m     \u001b[0;32mreturn\u001b[0m \u001b[0mnp\u001b[0m\u001b[0;34m.\u001b[0m\u001b[0marray\u001b[0m\u001b[0;34m(\u001b[0m\u001b[0mmask\u001b[0m\u001b[0;34m)\u001b[0m\u001b[0;34m\u001b[0m\u001b[0m\n",
      "\u001b[0;31mKeyboardInterrupt\u001b[0m: "
     ]
    }
   ],
   "source": [
    "batch_size = 256\n",
    "num_moves = 12\n",
    "_lambda = .7\n",
    "lr = .001\n",
    "\n",
    "with tf.Session() as sess:\n",
    "    tf.initialize_all_variables().run()\n",
    "    pgn = open(\"/Users/adam/Downloads/millionbase-2.22.pgn\")\n",
    "    batches = batch_generator(pgn, batch_size)\n",
    "    \n",
    "    for i, batch in enumerate(batches):\n",
    "        print('batch number:', i)\n",
    "        outer_sums = []\n",
    "        for board in batch:\n",
    "            board_seq = [board]\n",
    "            J_0 = sess.run(J, feed_dict={input_matrix: [get_feature_matrix(board)], keep_prob: 1.0})[0][0]\n",
    "            J_seq = [J_0]\n",
    "            grad_seq = []\n",
    "            for move_number in range(num_moves):\n",
    "                candidate_boards = get_candidate_boards(board_seq[move_number])\n",
    "                if len(candidate_boards):\n",
    "                    candidate_feature_matrices = np.array([get_feature_matrix(candidate_board) for candidate_board in candidate_boards])\n",
    "\n",
    "                    Js = sess.run(J, feed_dict={input_matrix: candidate_feature_matrices, keep_prob: 1.0})\n",
    "\n",
    "                    J_max = np.max(Js)\n",
    "                    J_seq.append(J_max)\n",
    "\n",
    "                    J_argmax = np.argmax(Js)\n",
    "                    board_seq.append(candidate_boards[J_argmax])\n",
    "\n",
    "                    grad = sess.run(var_grad, feed_dict={input_matrix: [candidate_feature_matrices[J_argmax]], keep_prob: 1.0})\n",
    "                    grad_seq.append(grad)\n",
    "                else:\n",
    "                    if board_seq[-1].turn:\n",
    "                        J_seq.append(-1)\n",
    "                    else:\n",
    "                        J_seq.append(1)\n",
    "                    board_seq.append(board_seq[-1])\n",
    "                    grad_seq.append(grad)\n",
    "                \n",
    "            outer_sum=0\n",
    "            diffs = np.array(J_seq[1:]) - np.array(J_seq[:-1])\n",
    "            for t, grad in enumerate(grad_seq):\n",
    "                inner_sum = sum([diff * _lambda**(j-t) for j, diff in enumerate(diffs[t:])])\n",
    "                outer_sum += np.array(grad)*inner_sum\n",
    "            outer_sums.append(outer_sum)\n",
    "        mean_outer_sum = np.array(outer_sums).mean(axis=0)\n",
    "        for weight, update in zip(weights, mean_outer_sum):\n",
    "            weight += lr + update\n",
    "        print(np.absolute(np.array([w.sum() for w in mean_outer_sum])).sum())"
   ]
  },
  {
   "cell_type": "code",
   "execution_count": 51,
   "metadata": {
    "collapsed": false
   },
   "outputs": [
    {
     "data": {
      "image/svg+xml": [
       "<svg xmlns=\"http://www.w3.org/2000/svg\" version=\"1.1\" xmlns:xlink=\"http://www.w3.org/1999/xlink\" width=\"400\" height=\"400\"><style>.square.light {\n",
       "  fill: #ffce9e;\n",
       "}\n",
       ".square.dark {\n",
       "  fill: #d18b47;\n",
       "}\n",
       "</style><defs><g id=\"black-king\" class=\"black king\" fill=\"none\" fill-rule=\"evenodd\" stroke=\"#000\" stroke-width=\"1.5\" stroke-linecap=\"round\" stroke-linejoin=\"round\"><path d=\"M22.5 11.63V6\" stroke-linejoin=\"miter\"/><path d=\"M22.5 25s4.5-7.5 3-10.5c0 0-1-2.5-3-2.5s-3 2.5-3 2.5c-1.5 3 3 10.5 3 10.5\" fill=\"#000\" stroke-linecap=\"butt\" stroke-linejoin=\"miter\"/><path d=\"M11.5 37c5.5 3.5 15.5 3.5 21 0v-7s9-4.5 6-10.5c-4-6.5-13.5-3.5-16 4V27v-3.5c-3.5-7.5-13-10.5-16-4-3 6 5 10 5 10V37z\" fill=\"#000\"/><path d=\"M20 8h5\" stroke-linejoin=\"miter\"/><path d=\"M32 29.5s8.5-4 6.03-9.65C34.15 14 25 18 22.5 24.5l.01 2.1-.01-2.1C20 18 9.906 14 6.997 19.85c-2.497 5.65 4.853 9 4.853 9M11.5 30c5.5-3 15.5-3 21 0m-21 3.5c5.5-3 15.5-3 21 0m-21 3.5c5.5-3 15.5-3 21 0\" stroke=\"#fff\"/></g><g id=\"white-bishop\" class=\"white bishop\" fill=\"none\" fill-rule=\"evenodd\" stroke=\"#000\" stroke-width=\"1.5\" stroke-linecap=\"round\" stroke-linejoin=\"round\"><g fill=\"#fff\" stroke-linecap=\"butt\"><path d=\"M9 36c3.39-.97 10.11.43 13.5-2 3.39 2.43 10.11 1.03 13.5 2 0 0 1.65.54 3 2-.68.97-1.65.99-3 .5-3.39-.97-10.11.46-13.5-1-3.39 1.46-10.11.03-13.5 1-1.354.49-2.323.47-3-.5 1.354-1.94 3-2 3-2zM15 32c2.5 2.5 12.5 2.5 15 0 .5-1.5 0-2 0-2 0-2.5-2.5-4-2.5-4 5.5-1.5 6-11.5-5-15.5-11 4-10.5 14-5 15.5 0 0-2.5 1.5-2.5 4 0 0-.5.5 0 2zM25 8a2.5 2.5 0 1 1-5 0 2.5 2.5 0 1 1 5 0z\"/></g><path d=\"M17.5 26h10M15 30h15m-7.5-14.5v5M20 18h5\" stroke-linejoin=\"miter\"/></g><g id=\"black-knight\" class=\"black knight\" fill=\"none\" fill-rule=\"evenodd\" stroke=\"#000\" stroke-width=\"1.5\" stroke-linecap=\"round\" stroke-linejoin=\"round\"><path d=\"M22 10c10.5 1 16.5 8 16 29H15c0-9 10-6.5 8-21M24 18c.38 2.91-5.55 7.37-8 9-3 2-2.82 4.34-5 4-1.042-.94 1.41-3.04 0-3-1 0 .19 1.23-1 2-1 0-4.003 1-4-4 0-2 6-12 6-12s1.89-1.9 2-3.5c-.73-.994-.5-2-.5-3 1-1 3 2.5 3 2.5h2s.78-1.992 2.5-3c1 0 1 3 1 3\" fill=\"#000\"/><path d=\"M9.5 25.5a.5.5 0 1 1-1 0 .5.5 0 1 1 1 0zM14.933 15.75a.5 1.5 30 1 1-.866-.5.5 1.5 30 1 1 .866.5z\" fill=\"#fff\" stroke=\"#fff\"/><path d=\"M24.55 10.4l-.45 1.45.5.15c3.15 1 5.65 2.49 7.9 6.75S35.75 29.06 35.25 39l-.05.5h2.25l.05-.5c.5-10.06-.88-16.85-3.25-21.34-2.37-4.49-5.79-6.64-9.19-7.16l-.51-.1z\" fill=\"#fff\" stroke=\"none\"/></g><g id=\"black-queen\" class=\"black-queen\" fill=\"0\" fill-rule=\"evenodd\" stroke=\"#000\" stroke-width=\"1.5\" stroke-linecap=\"round\" stroke-linejoin=\"round\"><g fill=\"#000\" stroke=\"none\"><circle cx=\"6\" cy=\"12\" r=\"2.75\"/><circle cx=\"14\" cy=\"9\" r=\"2.75\"/><circle cx=\"22.5\" cy=\"8\" r=\"2.75\"/><circle cx=\"31\" cy=\"9\" r=\"2.75\"/><circle cx=\"39\" cy=\"12\" r=\"2.75\"/></g><path d=\"M9 26c8.5-1.5 21-1.5 27 0l2.5-12.5L31 25l-.3-14.1-5.2 13.6-3-14.5-3 14.5-5.2-13.6L14 25 6.5 13.5 9 26zM9 26c0 2 1.5 2 2.5 4 1 1.5 1 1 .5 3.5-1.5 1-1.5 2.5-1.5 2.5-1.5 1.5.5 2.5.5 2.5 6.5 1 16.5 1 23 0 0 0 1.5-1 0-2.5 0 0 .5-1.5-1-2.5-.5-2.5-.5-2 .5-3.5 1-2 2.5-2 2.5-4-8.5-1.5-18.5-1.5-27 0z\" stroke-linecap=\"butt\"/><path d=\"M11 38.5a35 35 1 0 0 23 0\" fill=\"none\" stroke-linecap=\"butt\"/><path d=\"M11 29a35 35 1 0 1 23 0M12.5 31.5h20M11.5 34.5a35 35 1 0 0 22 0M10.5 37.5a35 35 1 0 0 24 0\" fill=\"none\" stroke=\"#fff\"/></g><g id=\"black-rook\" class=\"black rook\" fill=\"0\" fill-rule=\"evenodd\" stroke=\"#000\" stroke-width=\"1.5\" stroke-linecap=\"round\" stroke-linejoin=\"round\"><path d=\"M9 39h27v-3H9v3zM12.5 32l1.5-2.5h17l1.5 2.5h-20zM12 36v-4h21v4H12z\" stroke-linecap=\"butt\"/><path d=\"M14 29.5v-13h17v13H14z\" stroke-linecap=\"butt\" stroke-linejoin=\"miter\"/><path d=\"M14 16.5L11 14h23l-3 2.5H14zM11 14V9h4v2h5V9h5v2h5V9h4v5H11z\" stroke-linecap=\"butt\"/><path d=\"M12 35.5h21M13 31.5h19M14 29.5h17M14 16.5h17M11 14h23\" fill=\"none\" stroke=\"#fff\" stroke-width=\"1\" stroke-linejoin=\"miter\"/></g><g id=\"white-knight\" class=\"white knight\" fill=\"none\" fill-rule=\"evenodd\" stroke=\"#000\" stroke-width=\"1.5\" stroke-linecap=\"round\" stroke-linejoin=\"round\"><path d=\"M22 10c10.5 1 16.5 8 16 29H15c0-9 10-6.5 8-21M24 18c.38 2.91-5.55 7.37-8 9-3 2-2.82 4.34-5 4-1.042-.94 1.41-3.04 0-3-1 0 .19 1.23-1 2-1 0-4.003 1-4-4 0-2 6-12 6-12s1.89-1.9 2-3.5c-.73-.994-.5-2-.5-3 1-1 3 2.5 3 2.5h2s.78-1.992 2.5-3c1 0 1 3 1 3\" fill=\"#fff\"/><path d=\"M9.5 25.5a.5.5 0 1 1-1 0 .5.5 0 1 1 1 0zM14.933 15.75a.5 1.5 30 1 1-.866-.5.5 1.5 30 1 1 .866.5z\" fill=\"#000\"/></g><g id=\"white-pawn\" class=\"white pawn\"><path d=\"M22 9c-2.21 0-4 1.79-4 4 0 .89.29 1.71.78 2.38-1.95 1.12-3.28 3.21-3.28 5.62 0 2.03.94 3.84 2.41 5.03-3 1.06-7.41 5.55-7.41 13.47h23c0-7.92-4.41-12.41-7.41-13.47 1.47-1.19 2.41-3 2.41-5.03 0-2.41-1.33-4.5-3.28-5.62.49-.67.78-1.49.78-2.38 0-2.21-1.79-4-4-4z\" fill=\"#fff\" stroke=\"#000\" stroke-width=\"1.5\" stroke-linecap=\"round\"/></g><g id=\"black-pawn\" class=\"black pawn\"><path d=\"M22 9c-2.21 0-4 1.79-4 4 0 .89.29 1.71.78 2.38-1.95 1.12-3.28 3.21-3.28 5.62 0 2.03.94 3.84 2.41 5.03-3 1.06-7.41 5.55-7.41 13.47h23c0-7.92-4.41-12.41-7.41-13.47 1.47-1.19 2.41-3 2.41-5.03 0-2.41-1.33-4.5-3.28-5.62.49-.67.78-1.49.78-2.38 0-2.21-1.79-4-4-4z\" stroke=\"#000\" stroke-width=\"1.5\" stroke-linecap=\"round\"/></g><g id=\"black-bishop\" class=\"black bishop\" fill=\"none\" fill-rule=\"evenodd\" stroke=\"#000\" stroke-width=\"1.5\" stroke-linecap=\"round\" stroke-linejoin=\"round\"><path d=\"M9 36c3.39-.97 10.11.43 13.5-2 3.39 2.43 10.11 1.03 13.5 2 0 0 1.65.54 3 2-.68.97-1.65.99-3 .5-3.39-.97-10.11.46-13.5-1-3.39 1.46-10.11.03-13.5 1-1.354.49-2.323.47-3-.5 1.354-1.94 3-2 3-2zm6-4c2.5 2.5 12.5 2.5 15 0 .5-1.5 0-2 0-2 0-2.5-2.5-4-2.5-4 5.5-1.5 6-11.5-5-15.5-11 4-10.5 14-5 15.5 0 0-2.5 1.5-2.5 4 0 0-.5.5 0 2zM25 8a2.5 2.5 0 1 1-5 0 2.5 2.5 0 1 1 5 0z\" fill=\"#000\" stroke-linecap=\"butt\"/><path d=\"M17.5 26h10M15 30h15m-7.5-14.5v5M20 18h5\" stroke=\"#fff\" stroke-linejoin=\"miter\"/></g><g id=\"white-rook\" class=\"white rook\" fill=\"#fff\" fill-rule=\"evenodd\" stroke=\"#000\" stroke-width=\"1.5\" stroke-linecap=\"round\" stroke-linejoin=\"round\"><path d=\"M9 39h27v-3H9v3zM12 36v-4h21v4H12zM11 14V9h4v2h5V9h5v2h5V9h4v5\" stroke-linecap=\"butt\"/><path d=\"M34 14l-3 3H14l-3-3\"/><path d=\"M31 17v12.5H14V17\" stroke-linecap=\"butt\" stroke-linejoin=\"miter\"/><path d=\"M31 29.5l1.5 2.5h-20l1.5-2.5\"/><path d=\"M11 14h23\" fill=\"none\" stroke-linejoin=\"miter\"/></g><g id=\"white-king\" class=\"white king\" fill=\"none\" fill-rule=\"evenodd\" stroke=\"#000\" stroke-width=\"1.5\" stroke-linecap=\"round\" stroke-linejoin=\"round\"><path d=\"M22.5 11.63V6M20 8h5\" stroke-linejoin=\"miter\"/><path d=\"M22.5 25s4.5-7.5 3-10.5c0 0-1-2.5-3-2.5s-3 2.5-3 2.5c-1.5 3 3 10.5 3 10.5\" fill=\"#fff\" stroke-linecap=\"butt\" stroke-linejoin=\"miter\"/><path d=\"M11.5 37c5.5 3.5 15.5 3.5 21 0v-7s9-4.5 6-10.5c-4-6.5-13.5-3.5-16 4V27v-3.5c-3.5-7.5-13-10.5-16-4-3 6 5 10 5 10V37z\" fill=\"#fff\"/><path d=\"M11.5 30c5.5-3 15.5-3 21 0m-21 3.5c5.5-3 15.5-3 21 0m-21 3.5c5.5-3 15.5-3 21 0\"/></g><g id=\"white-queen\" class=\"white queen\" fill=\"#fff\" fill-rule=\"evenodd\" stroke=\"#000\" stroke-width=\"1.5\" stroke-linecap=\"round\" stroke-linejoin=\"round\"><path d=\"M8 12a2 2 0 1 1-4 0 2 2 0 1 1 4 0zM24.5 7.5a2 2 0 1 1-4 0 2 2 0 1 1 4 0zM41 12a2 2 0 1 1-4 0 2 2 0 1 1 4 0zM16 8.5a2 2 0 1 1-4 0 2 2 0 1 1 4 0zM33 9a2 2 0 1 1-4 0 2 2 0 1 1 4 0z\"/><path d=\"M9 26c8.5-1.5 21-1.5 27 0l2-12-7 11V11l-5.5 13.5-3-15-3 15-5.5-14V25L7 14l2 12zM9 26c0 2 1.5 2 2.5 4 1 1.5 1 1 .5 3.5-1.5 1-1.5 2.5-1.5 2.5-1.5 1.5.5 2.5.5 2.5 6.5 1 16.5 1 23 0 0 0 1.5-1 0-2.5 0 0 .5-1.5-1-2.5-.5-2.5-.5-2 .5-3.5 1-2 2.5-2 2.5-4-8.5-1.5-18.5-1.5-27 0z\" stroke-linecap=\"butt\"/><path d=\"M11.5 30c3.5-1 18.5-1 22 0M12 33.5c6-1 15-1 21 0\" fill=\"none\"/></g></defs><rect x=\"20\" y=\"335\" class=\"square dark a1\" width=\"45\" height=\"45\" style=\"stroke: none;\" /><rect x=\"65\" y=\"335\" class=\"square light b1\" width=\"45\" height=\"45\" style=\"stroke: none;\" /><rect x=\"110\" y=\"335\" class=\"square dark c1\" width=\"45\" height=\"45\" style=\"stroke: none;\" /><rect x=\"155\" y=\"335\" class=\"square light d1\" width=\"45\" height=\"45\" style=\"stroke: none;\" /><rect x=\"200\" y=\"335\" class=\"square dark e1\" width=\"45\" height=\"45\" style=\"stroke: none;\" /><rect x=\"245\" y=\"335\" class=\"square light f1\" width=\"45\" height=\"45\" style=\"stroke: none;\" /><use xlink:href=\"#white-rook\" x=\"245\" y=\"335\" /><rect x=\"290\" y=\"335\" class=\"square dark g1\" width=\"45\" height=\"45\" style=\"stroke: none;\" /><rect x=\"335\" y=\"335\" class=\"square light h1\" width=\"45\" height=\"45\" style=\"stroke: none;\" /><use xlink:href=\"#white-king\" x=\"335\" y=\"335\" /><rect x=\"20\" y=\"290\" class=\"square light a2\" width=\"45\" height=\"45\" style=\"stroke: none;\" /><use xlink:href=\"#white-pawn\" x=\"20\" y=\"290\" /><rect x=\"65\" y=\"290\" class=\"square dark b2\" width=\"45\" height=\"45\" style=\"stroke: none;\" /><use xlink:href=\"#white-pawn\" x=\"65\" y=\"290\" /><rect x=\"110\" y=\"290\" class=\"square light c2\" width=\"45\" height=\"45\" style=\"stroke: none;\" /><rect x=\"155\" y=\"290\" class=\"square dark d2\" width=\"45\" height=\"45\" style=\"stroke: none;\" /><rect x=\"200\" y=\"290\" class=\"square light e2\" width=\"45\" height=\"45\" style=\"stroke: none;\" /><use xlink:href=\"#white-bishop\" x=\"200\" y=\"290\" /><rect x=\"245\" y=\"290\" class=\"square dark f2\" width=\"45\" height=\"45\" style=\"stroke: none;\" /><rect x=\"290\" y=\"290\" class=\"square light g2\" width=\"45\" height=\"45\" style=\"stroke: none;\" /><use xlink:href=\"#white-pawn\" x=\"290\" y=\"290\" /><rect x=\"335\" y=\"290\" class=\"square dark h2\" width=\"45\" height=\"45\" style=\"stroke: none;\" /><use xlink:href=\"#white-pawn\" x=\"335\" y=\"290\" /><rect x=\"20\" y=\"245\" class=\"square dark a3\" width=\"45\" height=\"45\" style=\"stroke: none;\" /><rect x=\"65\" y=\"245\" class=\"square light b3\" width=\"45\" height=\"45\" style=\"stroke: none;\" /><rect x=\"110\" y=\"245\" class=\"square dark c3\" width=\"45\" height=\"45\" style=\"stroke: none;\" /><use xlink:href=\"#white-pawn\" x=\"110\" y=\"245\" /><rect x=\"155\" y=\"245\" class=\"square light d3\" width=\"45\" height=\"45\" style=\"stroke: none;\" /><rect x=\"200\" y=\"245\" class=\"square dark e3\" width=\"45\" height=\"45\" style=\"stroke: none;\" /><use xlink:href=\"#white-bishop\" x=\"200\" y=\"245\" /><rect x=\"245\" y=\"245\" class=\"square light f3\" width=\"45\" height=\"45\" style=\"stroke: none;\" /><use xlink:href=\"#white-pawn\" x=\"245\" y=\"245\" /><rect x=\"290\" y=\"245\" class=\"square dark g3\" width=\"45\" height=\"45\" style=\"stroke: none;\" /><rect x=\"335\" y=\"245\" class=\"square light h3\" width=\"45\" height=\"45\" style=\"stroke: none;\" /><rect x=\"20\" y=\"200\" class=\"square light a4\" width=\"45\" height=\"45\" style=\"stroke: none;\" /><rect x=\"65\" y=\"200\" class=\"square dark b4\" width=\"45\" height=\"45\" style=\"stroke: none;\" /><rect x=\"110\" y=\"200\" class=\"square light c4\" width=\"45\" height=\"45\" style=\"stroke: none;\" /><rect x=\"155\" y=\"200\" class=\"square dark d4\" width=\"45\" height=\"45\" style=\"stroke: none;\" /><rect x=\"200\" y=\"200\" class=\"square light e4\" width=\"45\" height=\"45\" style=\"stroke: none;\" /><rect x=\"245\" y=\"200\" class=\"square dark f4\" width=\"45\" height=\"45\" style=\"stroke: none;\" /><rect x=\"290\" y=\"200\" class=\"square light g4\" width=\"45\" height=\"45\" style=\"stroke: none;\" /><rect x=\"335\" y=\"200\" class=\"square dark h4\" width=\"45\" height=\"45\" style=\"stroke: none;\" /><rect x=\"20\" y=\"155\" class=\"square dark a5\" width=\"45\" height=\"45\" style=\"stroke: none;\" /><rect x=\"65\" y=\"155\" class=\"square light b5\" width=\"45\" height=\"45\" style=\"stroke: none;\" /><rect x=\"110\" y=\"155\" class=\"square dark c5\" width=\"45\" height=\"45\" style=\"stroke: none;\" /><rect x=\"155\" y=\"155\" class=\"square light d5\" width=\"45\" height=\"45\" style=\"stroke: none;\" /><rect x=\"200\" y=\"155\" class=\"square dark e5\" width=\"45\" height=\"45\" style=\"stroke: none;\" /><use xlink:href=\"#black-pawn\" x=\"200\" y=\"155\" /><rect x=\"245\" y=\"155\" class=\"square light f5\" width=\"45\" height=\"45\" style=\"stroke: none;\" /><use xlink:href=\"#black-pawn\" x=\"245\" y=\"155\" /><rect x=\"290\" y=\"155\" class=\"square dark g5\" width=\"45\" height=\"45\" style=\"stroke: none;\" /><rect x=\"335\" y=\"155\" class=\"square light h5\" width=\"45\" height=\"45\" style=\"stroke: none;\" /><rect x=\"20\" y=\"110\" class=\"square light a6\" width=\"45\" height=\"45\" style=\"stroke: none;\" /><rect x=\"65\" y=\"110\" class=\"square dark b6\" width=\"45\" height=\"45\" style=\"stroke: none;\" /><rect x=\"110\" y=\"110\" class=\"square light c6\" width=\"45\" height=\"45\" style=\"stroke: none;\" /><rect x=\"155\" y=\"110\" class=\"square dark d6\" width=\"45\" height=\"45\" style=\"stroke: none;\" /><use xlink:href=\"#white-rook\" x=\"155\" y=\"110\" /><rect x=\"200\" y=\"110\" class=\"square light e6\" width=\"45\" height=\"45\" style=\"stroke: none;\" /><use xlink:href=\"#black-bishop\" x=\"200\" y=\"110\" /><rect x=\"245\" y=\"110\" class=\"square dark f6\" width=\"45\" height=\"45\" style=\"stroke: none;\" /><use xlink:href=\"#black-bishop\" x=\"245\" y=\"110\" /><rect x=\"290\" y=\"110\" class=\"square light g6\" width=\"45\" height=\"45\" style=\"stroke: none;\" /><use xlink:href=\"#black-pawn\" x=\"290\" y=\"110\" /><rect x=\"335\" y=\"110\" class=\"square dark h6\" width=\"45\" height=\"45\" style=\"stroke: none;\" /><rect x=\"20\" y=\"65\" class=\"square dark a7\" width=\"45\" height=\"45\" style=\"stroke: none;\" /><use xlink:href=\"#black-pawn\" x=\"20\" y=\"65\" /><rect x=\"65\" y=\"65\" class=\"square light b7\" width=\"45\" height=\"45\" style=\"stroke: none;\" /><use xlink:href=\"#black-pawn\" x=\"65\" y=\"65\" /><rect x=\"110\" y=\"65\" class=\"square dark c7\" width=\"45\" height=\"45\" style=\"stroke: none;\" /><rect x=\"155\" y=\"65\" class=\"square light d7\" width=\"45\" height=\"45\" style=\"stroke: none;\" /><rect x=\"200\" y=\"65\" class=\"square dark e7\" width=\"45\" height=\"45\" style=\"stroke: none;\" /><rect x=\"245\" y=\"65\" class=\"square light f7\" width=\"45\" height=\"45\" style=\"stroke: none;\" /><use xlink:href=\"#black-king\" x=\"245\" y=\"65\" /><rect x=\"290\" y=\"65\" class=\"square dark g7\" width=\"45\" height=\"45\" style=\"stroke: none;\" /><rect x=\"335\" y=\"65\" class=\"square light h7\" width=\"45\" height=\"45\" style=\"stroke: none;\" /><use xlink:href=\"#black-pawn\" x=\"335\" y=\"65\" /><rect x=\"20\" y=\"20\" class=\"square light a8\" width=\"45\" height=\"45\" style=\"stroke: none;\" /><use xlink:href=\"#black-rook\" x=\"20\" y=\"20\" /><rect x=\"65\" y=\"20\" class=\"square dark b8\" width=\"45\" height=\"45\" style=\"stroke: none;\" /><rect x=\"110\" y=\"20\" class=\"square light c8\" width=\"45\" height=\"45\" style=\"stroke: none;\" /><rect x=\"155\" y=\"20\" class=\"square dark d8\" width=\"45\" height=\"45\" style=\"stroke: none;\" /><rect x=\"200\" y=\"20\" class=\"square light e8\" width=\"45\" height=\"45\" style=\"stroke: none;\" /><rect x=\"245\" y=\"20\" class=\"square dark f8\" width=\"45\" height=\"45\" style=\"stroke: none;\" /><use xlink:href=\"#black-rook\" x=\"245\" y=\"20\" /><rect x=\"290\" y=\"20\" class=\"square light g8\" width=\"45\" height=\"45\" style=\"stroke: none;\" /><rect x=\"335\" y=\"20\" class=\"square dark h8\" width=\"45\" height=\"45\" style=\"stroke: none;\" /><text x=\"42\" y=\"10\" text-anchor=\"middle\" alignment-baseline=\"middle\" font-size=\"14\">a</text><text x=\"42\" y=\"390\" text-anchor=\"middle\" alignment-baseline=\"middle\" font-size=\"14\">a</text><text x=\"87\" y=\"10\" text-anchor=\"middle\" alignment-baseline=\"middle\" font-size=\"14\">b</text><text x=\"87\" y=\"390\" text-anchor=\"middle\" alignment-baseline=\"middle\" font-size=\"14\">b</text><text x=\"132\" y=\"10\" text-anchor=\"middle\" alignment-baseline=\"middle\" font-size=\"14\">c</text><text x=\"132\" y=\"390\" text-anchor=\"middle\" alignment-baseline=\"middle\" font-size=\"14\">c</text><text x=\"177\" y=\"10\" text-anchor=\"middle\" alignment-baseline=\"middle\" font-size=\"14\">d</text><text x=\"177\" y=\"390\" text-anchor=\"middle\" alignment-baseline=\"middle\" font-size=\"14\">d</text><text x=\"222\" y=\"10\" text-anchor=\"middle\" alignment-baseline=\"middle\" font-size=\"14\">e</text><text x=\"222\" y=\"390\" text-anchor=\"middle\" alignment-baseline=\"middle\" font-size=\"14\">e</text><text x=\"267\" y=\"10\" text-anchor=\"middle\" alignment-baseline=\"middle\" font-size=\"14\">f</text><text x=\"267\" y=\"390\" text-anchor=\"middle\" alignment-baseline=\"middle\" font-size=\"14\">f</text><text x=\"312\" y=\"10\" text-anchor=\"middle\" alignment-baseline=\"middle\" font-size=\"14\">g</text><text x=\"312\" y=\"390\" text-anchor=\"middle\" alignment-baseline=\"middle\" font-size=\"14\">g</text><text x=\"357\" y=\"10\" text-anchor=\"middle\" alignment-baseline=\"middle\" font-size=\"14\">h</text><text x=\"357\" y=\"390\" text-anchor=\"middle\" alignment-baseline=\"middle\" font-size=\"14\">h</text><text x=\"10\" y=\"357\" text-anchor=\"middle\" alignment-baseline=\"middle\" font-size=\"14\">1</text><text x=\"390\" y=\"357\" text-anchor=\"middle\" alignment-baseline=\"middle\" font-size=\"14\">1</text><text x=\"10\" y=\"312\" text-anchor=\"middle\" alignment-baseline=\"middle\" font-size=\"14\">2</text><text x=\"390\" y=\"312\" text-anchor=\"middle\" alignment-baseline=\"middle\" font-size=\"14\">2</text><text x=\"10\" y=\"267\" text-anchor=\"middle\" alignment-baseline=\"middle\" font-size=\"14\">3</text><text x=\"390\" y=\"267\" text-anchor=\"middle\" alignment-baseline=\"middle\" font-size=\"14\">3</text><text x=\"10\" y=\"222\" text-anchor=\"middle\" alignment-baseline=\"middle\" font-size=\"14\">4</text><text x=\"390\" y=\"222\" text-anchor=\"middle\" alignment-baseline=\"middle\" font-size=\"14\">4</text><text x=\"10\" y=\"177\" text-anchor=\"middle\" alignment-baseline=\"middle\" font-size=\"14\">5</text><text x=\"390\" y=\"177\" text-anchor=\"middle\" alignment-baseline=\"middle\" font-size=\"14\">5</text><text x=\"10\" y=\"132\" text-anchor=\"middle\" alignment-baseline=\"middle\" font-size=\"14\">6</text><text x=\"390\" y=\"132\" text-anchor=\"middle\" alignment-baseline=\"middle\" font-size=\"14\">6</text><text x=\"10\" y=\"87\" text-anchor=\"middle\" alignment-baseline=\"middle\" font-size=\"14\">7</text><text x=\"390\" y=\"87\" text-anchor=\"middle\" alignment-baseline=\"middle\" font-size=\"14\">7</text><text x=\"10\" y=\"42\" text-anchor=\"middle\" alignment-baseline=\"middle\" font-size=\"14\">8</text><text x=\"390\" y=\"42\" text-anchor=\"middle\" alignment-baseline=\"middle\" font-size=\"14\">8</text></svg>"
      ],
      "text/plain": [
       "Board('r4r2/pp3k1p/3Rbbp1/4pp2/8/2P1BP2/PP2B1PP/5R1K b - - 2 19')"
      ]
     },
     "execution_count": 51,
     "metadata": {},
     "output_type": "execute_result"
    }
   ],
   "source": [
    "board"
   ]
  },
  {
   "cell_type": "code",
   "execution_count": null,
   "metadata": {
    "collapsed": true
   },
   "outputs": [],
   "source": []
  }
 ],
 "metadata": {
  "kernelspec": {
   "display_name": "Python 3",
   "language": "python",
   "name": "python3"
  },
  "language_info": {
   "codemirror_mode": {
    "name": "ipython",
    "version": 3
   },
   "file_extension": ".py",
   "mimetype": "text/x-python",
   "name": "python",
   "nbconvert_exporter": "python",
   "pygments_lexer": "ipython3",
   "version": "3.5.1"
  }
 },
 "nbformat": 4,
 "nbformat_minor": 0
}
