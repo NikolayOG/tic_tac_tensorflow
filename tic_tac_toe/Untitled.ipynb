{
 "cells": [
  {
   "cell_type": "code",
   "execution_count": 1,
   "metadata": {
    "collapsed": false
   },
   "outputs": [],
   "source": [
    "import numpy as np\n",
    "import tensorflow as tf\n",
    "from nn_agent import NeuralNetAgent\n",
    "from game import TicTacToe"
   ]
  },
  {
   "cell_type": "code",
   "execution_count": 2,
   "metadata": {
    "collapsed": true
   },
   "outputs": [],
   "source": [
    "sess = tf.InteractiveSession()"
   ]
  },
  {
   "cell_type": "code",
   "execution_count": 3,
   "metadata": {
    "collapsed": false
   },
   "outputs": [],
   "source": [
    "env = TicTacToe()"
   ]
  },
  {
   "cell_type": "code",
   "execution_count": 4,
   "metadata": {
    "collapsed": false
   },
   "outputs": [
    {
     "name": "stdout",
     "output_type": "stream",
     "text": [
      "INFO:tensorflow:Summary name layer_1/W_1:0 is illegal; using layer_1/W_1_0 instead.\n",
      "INFO:tensorflow:Summary name layer_1/W_1:0/trace_sums is illegal; using layer_1/W_1_0/trace_sums instead.\n",
      "INFO:tensorflow:Summary name layer_1/b_1:0 is illegal; using layer_1/b_1_0 instead.\n",
      "INFO:tensorflow:Summary name layer_1/b_1:0/trace_sums is illegal; using layer_1/b_1_0/trace_sums instead.\n",
      "INFO:tensorflow:Summary name layer_2/W_2:0 is illegal; using layer_2/W_2_0 instead.\n",
      "INFO:tensorflow:Summary name layer_2/W_2:0/trace_sums is illegal; using layer_2/W_2_0/trace_sums instead.\n",
      "INFO:tensorflow:Summary name layer_2/b_2:0 is illegal; using layer_2/b_2_0 instead.\n",
      "INFO:tensorflow:Summary name layer_2/b_2:0/trace_sums is illegal; using layer_2/b_2_0/trace_sums instead.\n",
      "Restoring checkpoint: /Users/adam/Documents/projects/td_learning/tic_tac_toe/checkpoints/checkpoint.ckpt\n"
     ]
    }
   ],
   "source": [
    "nn_agent = NeuralNetAgent(env, \n",
    "                          sess, \n",
    "                          '',\n",
    "                          '',\n",
    "                          '/Users/adam/Documents/projects/td_learning/tic_tac_toe/checkpoints/', \n",
    "                          restore=True)"
   ]
  },
  {
   "cell_type": "code",
   "execution_count": 7,
   "metadata": {
    "collapsed": false
   },
   "outputs": [],
   "source": [
    "env.reset()"
   ]
  },
  {
   "cell_type": "code",
   "execution_count": 6,
   "metadata": {
    "collapsed": false
   },
   "outputs": [
    {
     "name": "stdout",
     "output_type": "stream",
     "text": [
      "  | |X\n",
      "-------\n",
      "  | | \n",
      "-------\n",
      "  | | \n",
      "\n",
      "  | |X\n",
      "-------\n",
      "  | | \n",
      "-------\n",
      " O| | \n",
      "\n",
      "  | |X\n",
      "-------\n",
      "  | |X\n",
      "-------\n",
      " O| | \n",
      "\n",
      "  | |X\n",
      "-------\n",
      "  | |X\n",
      "-------\n",
      " O| |O\n",
      "\n",
      "  | |X\n",
      "-------\n",
      "  | |X\n",
      "-------\n",
      " O|X|O\n",
      "\n",
      " O| |X\n",
      "-------\n",
      "  | |X\n",
      "-------\n",
      " O|X|O\n",
      "\n",
      " O| |X\n",
      "-------\n",
      " X| |X\n",
      "-------\n",
      " O|X|O\n",
      "\n",
      " O| |X\n",
      "-------\n",
      " X|O|X\n",
      "-------\n",
      " O|X|O\n",
      "\n"
     ]
    },
    {
     "data": {
      "text/plain": [
       "-1"
      ]
     },
     "execution_count": 6,
     "metadata": {},
     "output_type": "execute_result"
    }
   ],
   "source": [
    "env.play([nn_agent,nn_agent], verbose=True)"
   ]
  },
  {
   "cell_type": "code",
   "execution_count": 8,
   "metadata": {
    "collapsed": false
   },
   "outputs": [
    {
     "name": "stdout",
     "output_type": "stream",
     "text": [
      "0 [-0.00597511]\n",
      " X| | \n",
      "-------\n",
      "  | | \n",
      "-------\n",
      "  | | \n",
      "\n",
      "****************************************************************************************************\n",
      "1 [ 0.67698407]\n",
      "  |X| \n",
      "-------\n",
      "  | | \n",
      "-------\n",
      "  | | \n",
      "\n",
      "****************************************************************************************************\n",
      "2 [ 0.87640887]\n",
      "  | |X\n",
      "-------\n",
      "  | | \n",
      "-------\n",
      "  | | \n",
      "\n",
      "****************************************************************************************************\n",
      "3 [ 0.67840517]\n",
      "  | | \n",
      "-------\n",
      " X| | \n",
      "-------\n",
      "  | | \n",
      "\n",
      "****************************************************************************************************\n",
      "4 [ 0.0056441]\n",
      "  | | \n",
      "-------\n",
      "  |X| \n",
      "-------\n",
      "  | | \n",
      "\n",
      "****************************************************************************************************\n",
      "5 [ 0.86272025]\n",
      "  | | \n",
      "-------\n",
      "  | |X\n",
      "-------\n",
      "  | | \n",
      "\n",
      "****************************************************************************************************\n",
      "6 [ 0.00794192]\n",
      "  | | \n",
      "-------\n",
      "  | | \n",
      "-------\n",
      " X| | \n",
      "\n",
      "****************************************************************************************************\n",
      "7 [ 0.69520831]\n",
      "  | | \n",
      "-------\n",
      "  | | \n",
      "-------\n",
      "  |X| \n",
      "\n",
      "****************************************************************************************************\n",
      "8 [ 0.60404646]\n",
      "  | | \n",
      "-------\n",
      "  | | \n",
      "-------\n",
      "  | |X\n",
      "\n",
      "****************************************************************************************************\n"
     ]
    }
   ],
   "source": [
    "candidate_boards = env.get_candidate_boards()\n",
    "turns = float(env.turn) * np.ones((len(candidate_boards), 1))\n",
    "js = nn_agent.J.eval(feed_dict={nn_agent.boards_placeholder: candidate_boards, \n",
    "                                nn_agent.turn_placeholder: turns})\n",
    "for idx, (j, board) in enumerate(zip(js, candidate_boards)):\n",
    "    print(idx, j)\n",
    "    env._print(board)\n",
    "    print(100*'*')"
   ]
  },
  {
   "cell_type": "code",
   "execution_count": 20,
   "metadata": {
    "collapsed": false
   },
   "outputs": [
    {
     "name": "stdout",
     "output_type": "stream",
     "text": [
      " O| |O\n",
      "-------\n",
      "  | | \n",
      "-------\n",
      " X| |X\n",
      "\n"
     ]
    }
   ],
   "source": [
    "env.step(env.get_candidate_boards()[1])\n",
    "env._print()"
   ]
  },
  {
   "cell_type": "code",
   "execution_count": 18,
   "metadata": {
    "collapsed": false
   },
   "outputs": [
    {
     "name": "stdout",
     "output_type": "stream",
     "text": [
      " O| | \n",
      "-------\n",
      "  | | \n",
      "-------\n",
      " X| |X\n",
      "\n"
     ]
    }
   ],
   "source": [
    "selected_board = nn_agent.select_board(env.get_candidate_boards(), env.turn)\n",
    "env.step(selected_board)\n",
    "env._print()"
   ]
  },
  {
   "cell_type": "code",
   "execution_count": null,
   "metadata": {
    "collapsed": true
   },
   "outputs": [],
   "source": []
  }
 ],
 "metadata": {
  "kernelspec": {
   "display_name": "Python 3",
   "language": "python",
   "name": "python3"
  },
  "language_info": {
   "codemirror_mode": {
    "name": "ipython",
    "version": 3
   },
   "file_extension": ".py",
   "mimetype": "text/x-python",
   "name": "python",
   "nbconvert_exporter": "python",
   "pygments_lexer": "ipython3",
   "version": "3.5.1"
  }
 },
 "nbformat": 4,
 "nbformat_minor": 0
}
